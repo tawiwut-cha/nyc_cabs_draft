{
 "cells": [
  {
   "cell_type": "code",
   "execution_count": 13,
   "source": [
    "import os\r\n",
    "import pandas as pd\r\n",
    "from urllib.request import urlretrieve"
   ],
   "outputs": [],
   "metadata": {}
  },
  {
   "cell_type": "code",
   "execution_count": 24,
   "source": [
    "DOWNLOAD_ROOT = 'https://s3.amazonaws.com/nyc-tlc/trip+data/'\r\n",
    "TRIPDATA_URL = DOWNLOAD_ROOT+'(vehicle_type)_tripdata_(YYYY)-(MM).csv'\r\n",
    "TRIPDATA_PATH = os.path.join('datasets', '(vehicle_type)_tripdata_(YYYY)-(MM).csv')\r\n",
    "\r\n",
    "VEHICLE_TYPES = ['yellow', 'green', 'fhv', 'fhvhv']"
   ],
   "outputs": [],
   "metadata": {}
  },
  {
   "cell_type": "code",
   "execution_count": 34,
   "source": [
    "# fetch data\r\n",
    "def fetch_tripdata(year_month_pairs:list, vehicle_types:list=VEHICLE_TYPES, tripdata_url=TRIPDATA_URL, tripdata_path=TRIPDATA_PATH):\r\n",
    "    '''\r\n",
    "    download tripdata from https://www1.nyc.gov/site/tlc/about/tlc-trip-record-data.page\r\n",
    "\r\n",
    "    Params:\r\n",
    "    year_month_pairs - list of tuple of year month ex [('2020-05')]\r\n",
    "    vehicle_types - list of vehicle type data to download ['yellow']\r\n",
    "    tripdata_url - url for data download got from webpage\r\n",
    "    tripdata_path - path to place downloaded files\r\n",
    "    '''\r\n",
    "    print('Fetching tripdata ......')\r\n",
    "    for year_month_pair in year_month_pairs:\r\n",
    "        year_, month_ = year_month_pair.split('-')[0], year_month_pair.split('-')[1] \r\n",
    "        for vehicle_type in vehicle_types:\r\n",
    "            # replace formatting for vehicle_type, year, month\r\n",
    "            url_ = tripdata_url.replace('(vehicle_type)', vehicle_type).replace('(YYYY)', year_).replace('(MM)', month_)\r\n",
    "            path_ = tripdata_path.replace('(vehicle_type)', vehicle_type).replace('(YYYY)', year_).replace('(MM)', month_)           \r\n",
    "            if not os.path.isfile(path_):\r\n",
    "                print(f'{path_} not downloaded')\r\n",
    "                print(f'Downloading from {url_}')\r\n",
    "                urlretrieve(url_, path_)\r\n",
    "            else:\r\n",
    "                print(f'{path_} downloaded already')\r\n",
    "            print('######################################')\r\n",
    "    print('################ DONE #################')"
   ],
   "outputs": [],
   "metadata": {}
  },
  {
   "cell_type": "code",
   "execution_count": 35,
   "source": [
    "fetch_tripdata([('2019-06'),('2019-05')])"
   ],
   "outputs": [
    {
     "output_type": "stream",
     "name": "stdout",
     "text": [
      "Fetching tripdata ......\n",
      "datasets\\yellow_tripdata_2019-06.csv downloaded already\n",
      "######################################\n",
      "datasets\\green_tripdata_2019-06.csv downloaded already\n",
      "######################################\n",
      "datasets\\fhv_tripdata_2019-06.csv downloaded already\n",
      "######################################\n",
      "datasets\\fhvhv_tripdata_2019-06.csv downloaded already\n",
      "######################################\n",
      "datasets\\yellow_tripdata_2019-05.csv downloaded already\n",
      "######################################\n",
      "datasets\\green_tripdata_2019-05.csv downloaded already\n",
      "######################################\n",
      "datasets\\fhv_tripdata_2019-05.csv downloaded already\n",
      "######################################\n",
      "datasets\\fhvhv_tripdata_2019-05.csv downloaded already\n",
      "######################################\n",
      "################ DONE #################\n"
     ]
    }
   ],
   "metadata": {}
  },
  {
   "cell_type": "code",
   "execution_count": 38,
   "source": [
    "# load data\r\n",
    "def load_tripdata(year_month_pairs:list, vehicle_types:list=VEHICLE_TYPES, tripdata_path=TRIPDATA_PATH):\r\n",
    "    dfs = dict()\r\n",
    "    print('Loading tripdata ......')\r\n",
    "    for year_month_pair in year_month_pairs:\r\n",
    "        year_, month_ = year_month_pair.split('-')[0], year_month_pair.split('-')[1] \r\n",
    "        for vehicle_type in vehicle_types:\r\n",
    "            path_ = tripdata_path.replace('(vehicle_type)', vehicle_type).replace('(YYYY)', year_).replace('(MM)', month_)\r\n",
    "            dfs[f'{year_month_pair}-{vehicle_type}'] = pd.read_csv(path_)\r\n",
    "    print('################ DONE #################')\r\n",
    "    return dfs"
   ],
   "outputs": [],
   "metadata": {}
  },
  {
   "cell_type": "code",
   "execution_count": 39,
   "source": [
    "dfs = load_tripdata([('2019-05')])"
   ],
   "outputs": [
    {
     "output_type": "stream",
     "name": "stdout",
     "text": [
      "Loading tripdata ......\n",
      "################ DONE #################\n"
     ]
    }
   ],
   "metadata": {}
  }
 ],
 "metadata": {
  "orig_nbformat": 4,
  "language_info": {
   "name": "python",
   "version": "3.8.8",
   "mimetype": "text/x-python",
   "codemirror_mode": {
    "name": "ipython",
    "version": 3
   },
   "pygments_lexer": "ipython3",
   "nbconvert_exporter": "python",
   "file_extension": ".py"
  },
  "kernelspec": {
   "name": "python3",
   "display_name": "Python 3.8.8 64-bit ('base': conda)"
  },
  "interpreter": {
   "hash": "5e57bd0e9122681100ff0c01a77d03a96c53183a268dc781647c7935a0e65936"
  }
 },
 "nbformat": 4,
 "nbformat_minor": 2
}
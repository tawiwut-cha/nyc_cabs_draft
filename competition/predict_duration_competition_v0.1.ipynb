{
 "cells": [
  {
   "cell_type": "markdown",
   "metadata": {},
   "source": [
    "# Import data\n",
    "- load data\n",
    "- get an overview of the data"
   ]
  },
  {
   "cell_type": "code",
   "execution_count": 9,
   "metadata": {},
   "outputs": [],
   "source": [
    "import pandas as pd\n",
    "import matplotlib.pyplot as plt\n",
    "import seaborn as sns\n",
    "import numpy as np"
   ]
  },
  {
   "cell_type": "code",
   "execution_count": 10,
   "metadata": {},
   "outputs": [],
   "source": [
    "df = pd.read_csv('datasets/train.csv', parse_dates=['pickup_datetime', 'dropoff_datetime'])\n",
    "test = pd.read_csv('datasets/test.csv', parse_dates=['pickup_datetime'])"
   ]
  },
  {
   "cell_type": "code",
   "execution_count": 11,
   "metadata": {},
   "outputs": [
    {
     "data": {
      "text/html": [
       "<div>\n",
       "<style scoped>\n",
       "    .dataframe tbody tr th:only-of-type {\n",
       "        vertical-align: middle;\n",
       "    }\n",
       "\n",
       "    .dataframe tbody tr th {\n",
       "        vertical-align: top;\n",
       "    }\n",
       "\n",
       "    .dataframe thead th {\n",
       "        text-align: right;\n",
       "    }\n",
       "</style>\n",
       "<table border=\"1\" class=\"dataframe\">\n",
       "  <thead>\n",
       "    <tr style=\"text-align: right;\">\n",
       "      <th></th>\n",
       "      <th>id</th>\n",
       "      <th>vendor_id</th>\n",
       "      <th>pickup_datetime</th>\n",
       "      <th>dropoff_datetime</th>\n",
       "      <th>passenger_count</th>\n",
       "      <th>pickup_longitude</th>\n",
       "      <th>pickup_latitude</th>\n",
       "      <th>dropoff_longitude</th>\n",
       "      <th>dropoff_latitude</th>\n",
       "      <th>store_and_fwd_flag</th>\n",
       "      <th>trip_duration</th>\n",
       "    </tr>\n",
       "  </thead>\n",
       "  <tbody>\n",
       "    <tr>\n",
       "      <th>0</th>\n",
       "      <td>id2875421</td>\n",
       "      <td>2</td>\n",
       "      <td>2016-03-14 17:24:55</td>\n",
       "      <td>2016-03-14 17:32:30</td>\n",
       "      <td>1</td>\n",
       "      <td>-73.982155</td>\n",
       "      <td>40.767937</td>\n",
       "      <td>-73.964630</td>\n",
       "      <td>40.765602</td>\n",
       "      <td>N</td>\n",
       "      <td>455</td>\n",
       "    </tr>\n",
       "    <tr>\n",
       "      <th>1</th>\n",
       "      <td>id2377394</td>\n",
       "      <td>1</td>\n",
       "      <td>2016-06-12 00:43:35</td>\n",
       "      <td>2016-06-12 00:54:38</td>\n",
       "      <td>1</td>\n",
       "      <td>-73.980415</td>\n",
       "      <td>40.738564</td>\n",
       "      <td>-73.999481</td>\n",
       "      <td>40.731152</td>\n",
       "      <td>N</td>\n",
       "      <td>663</td>\n",
       "    </tr>\n",
       "    <tr>\n",
       "      <th>2</th>\n",
       "      <td>id3858529</td>\n",
       "      <td>2</td>\n",
       "      <td>2016-01-19 11:35:24</td>\n",
       "      <td>2016-01-19 12:10:48</td>\n",
       "      <td>1</td>\n",
       "      <td>-73.979027</td>\n",
       "      <td>40.763939</td>\n",
       "      <td>-74.005333</td>\n",
       "      <td>40.710087</td>\n",
       "      <td>N</td>\n",
       "      <td>2124</td>\n",
       "    </tr>\n",
       "    <tr>\n",
       "      <th>3</th>\n",
       "      <td>id3504673</td>\n",
       "      <td>2</td>\n",
       "      <td>2016-04-06 19:32:31</td>\n",
       "      <td>2016-04-06 19:39:40</td>\n",
       "      <td>1</td>\n",
       "      <td>-74.010040</td>\n",
       "      <td>40.719971</td>\n",
       "      <td>-74.012268</td>\n",
       "      <td>40.706718</td>\n",
       "      <td>N</td>\n",
       "      <td>429</td>\n",
       "    </tr>\n",
       "    <tr>\n",
       "      <th>4</th>\n",
       "      <td>id2181028</td>\n",
       "      <td>2</td>\n",
       "      <td>2016-03-26 13:30:55</td>\n",
       "      <td>2016-03-26 13:38:10</td>\n",
       "      <td>1</td>\n",
       "      <td>-73.973053</td>\n",
       "      <td>40.793209</td>\n",
       "      <td>-73.972923</td>\n",
       "      <td>40.782520</td>\n",
       "      <td>N</td>\n",
       "      <td>435</td>\n",
       "    </tr>\n",
       "  </tbody>\n",
       "</table>\n",
       "</div>"
      ],
      "text/plain": [
       "          id  vendor_id     pickup_datetime    dropoff_datetime  \\\n",
       "0  id2875421          2 2016-03-14 17:24:55 2016-03-14 17:32:30   \n",
       "1  id2377394          1 2016-06-12 00:43:35 2016-06-12 00:54:38   \n",
       "2  id3858529          2 2016-01-19 11:35:24 2016-01-19 12:10:48   \n",
       "3  id3504673          2 2016-04-06 19:32:31 2016-04-06 19:39:40   \n",
       "4  id2181028          2 2016-03-26 13:30:55 2016-03-26 13:38:10   \n",
       "\n",
       "   passenger_count  pickup_longitude  pickup_latitude  dropoff_longitude  \\\n",
       "0                1        -73.982155        40.767937         -73.964630   \n",
       "1                1        -73.980415        40.738564         -73.999481   \n",
       "2                1        -73.979027        40.763939         -74.005333   \n",
       "3                1        -74.010040        40.719971         -74.012268   \n",
       "4                1        -73.973053        40.793209         -73.972923   \n",
       "\n",
       "   dropoff_latitude store_and_fwd_flag  trip_duration  \n",
       "0         40.765602                  N            455  \n",
       "1         40.731152                  N            663  \n",
       "2         40.710087                  N           2124  \n",
       "3         40.706718                  N            429  \n",
       "4         40.782520                  N            435  "
      ]
     },
     "execution_count": 11,
     "metadata": {},
     "output_type": "execute_result"
    }
   ],
   "source": [
    "df.head()"
   ]
  },
  {
   "cell_type": "code",
   "execution_count": 12,
   "metadata": {},
   "outputs": [
    {
     "name": "stdout",
     "output_type": "stream",
     "text": [
      "<class 'pandas.core.frame.DataFrame'>\n",
      "RangeIndex: 1458644 entries, 0 to 1458643\n",
      "Data columns (total 11 columns):\n",
      " #   Column              Non-Null Count    Dtype         \n",
      "---  ------              --------------    -----         \n",
      " 0   id                  1458644 non-null  object        \n",
      " 1   vendor_id           1458644 non-null  int64         \n",
      " 2   pickup_datetime     1458644 non-null  datetime64[ns]\n",
      " 3   dropoff_datetime    1458644 non-null  datetime64[ns]\n",
      " 4   passenger_count     1458644 non-null  int64         \n",
      " 5   pickup_longitude    1458644 non-null  float64       \n",
      " 6   pickup_latitude     1458644 non-null  float64       \n",
      " 7   dropoff_longitude   1458644 non-null  float64       \n",
      " 8   dropoff_latitude    1458644 non-null  float64       \n",
      " 9   store_and_fwd_flag  1458644 non-null  object        \n",
      " 10  trip_duration       1458644 non-null  int64         \n",
      "dtypes: datetime64[ns](2), float64(4), int64(3), object(2)\n",
      "memory usage: 122.4+ MB\n"
     ]
    }
   ],
   "source": [
    "df.info()"
   ]
  },
  {
   "cell_type": "code",
   "execution_count": 13,
   "metadata": {},
   "outputs": [
    {
     "data": {
      "text/html": [
       "<div>\n",
       "<style scoped>\n",
       "    .dataframe tbody tr th:only-of-type {\n",
       "        vertical-align: middle;\n",
       "    }\n",
       "\n",
       "    .dataframe tbody tr th {\n",
       "        vertical-align: top;\n",
       "    }\n",
       "\n",
       "    .dataframe thead th {\n",
       "        text-align: right;\n",
       "    }\n",
       "</style>\n",
       "<table border=\"1\" class=\"dataframe\">\n",
       "  <thead>\n",
       "    <tr style=\"text-align: right;\">\n",
       "      <th></th>\n",
       "      <th>id</th>\n",
       "      <th>vendor_id</th>\n",
       "      <th>pickup_datetime</th>\n",
       "      <th>passenger_count</th>\n",
       "      <th>pickup_longitude</th>\n",
       "      <th>pickup_latitude</th>\n",
       "      <th>dropoff_longitude</th>\n",
       "      <th>dropoff_latitude</th>\n",
       "      <th>store_and_fwd_flag</th>\n",
       "    </tr>\n",
       "  </thead>\n",
       "  <tbody>\n",
       "    <tr>\n",
       "      <th>0</th>\n",
       "      <td>id3004672</td>\n",
       "      <td>1</td>\n",
       "      <td>2016-06-30 23:59:58</td>\n",
       "      <td>1</td>\n",
       "      <td>-73.988129</td>\n",
       "      <td>40.732029</td>\n",
       "      <td>-73.990173</td>\n",
       "      <td>40.756680</td>\n",
       "      <td>N</td>\n",
       "    </tr>\n",
       "    <tr>\n",
       "      <th>1</th>\n",
       "      <td>id3505355</td>\n",
       "      <td>1</td>\n",
       "      <td>2016-06-30 23:59:53</td>\n",
       "      <td>1</td>\n",
       "      <td>-73.964203</td>\n",
       "      <td>40.679993</td>\n",
       "      <td>-73.959808</td>\n",
       "      <td>40.655403</td>\n",
       "      <td>N</td>\n",
       "    </tr>\n",
       "    <tr>\n",
       "      <th>2</th>\n",
       "      <td>id1217141</td>\n",
       "      <td>1</td>\n",
       "      <td>2016-06-30 23:59:47</td>\n",
       "      <td>1</td>\n",
       "      <td>-73.997437</td>\n",
       "      <td>40.737583</td>\n",
       "      <td>-73.986160</td>\n",
       "      <td>40.729523</td>\n",
       "      <td>N</td>\n",
       "    </tr>\n",
       "    <tr>\n",
       "      <th>3</th>\n",
       "      <td>id2150126</td>\n",
       "      <td>2</td>\n",
       "      <td>2016-06-30 23:59:41</td>\n",
       "      <td>1</td>\n",
       "      <td>-73.956070</td>\n",
       "      <td>40.771900</td>\n",
       "      <td>-73.986427</td>\n",
       "      <td>40.730469</td>\n",
       "      <td>N</td>\n",
       "    </tr>\n",
       "    <tr>\n",
       "      <th>4</th>\n",
       "      <td>id1598245</td>\n",
       "      <td>1</td>\n",
       "      <td>2016-06-30 23:59:33</td>\n",
       "      <td>1</td>\n",
       "      <td>-73.970215</td>\n",
       "      <td>40.761475</td>\n",
       "      <td>-73.961510</td>\n",
       "      <td>40.755890</td>\n",
       "      <td>N</td>\n",
       "    </tr>\n",
       "  </tbody>\n",
       "</table>\n",
       "</div>"
      ],
      "text/plain": [
       "          id  vendor_id     pickup_datetime  passenger_count  \\\n",
       "0  id3004672          1 2016-06-30 23:59:58                1   \n",
       "1  id3505355          1 2016-06-30 23:59:53                1   \n",
       "2  id1217141          1 2016-06-30 23:59:47                1   \n",
       "3  id2150126          2 2016-06-30 23:59:41                1   \n",
       "4  id1598245          1 2016-06-30 23:59:33                1   \n",
       "\n",
       "   pickup_longitude  pickup_latitude  dropoff_longitude  dropoff_latitude  \\\n",
       "0        -73.988129        40.732029         -73.990173         40.756680   \n",
       "1        -73.964203        40.679993         -73.959808         40.655403   \n",
       "2        -73.997437        40.737583         -73.986160         40.729523   \n",
       "3        -73.956070        40.771900         -73.986427         40.730469   \n",
       "4        -73.970215        40.761475         -73.961510         40.755890   \n",
       "\n",
       "  store_and_fwd_flag  \n",
       "0                  N  \n",
       "1                  N  \n",
       "2                  N  \n",
       "3                  N  \n",
       "4                  N  "
      ]
     },
     "execution_count": 13,
     "metadata": {},
     "output_type": "execute_result"
    }
   ],
   "source": [
    "test.head()"
   ]
  },
  {
   "cell_type": "code",
   "execution_count": 14,
   "metadata": {},
   "outputs": [
    {
     "name": "stdout",
     "output_type": "stream",
     "text": [
      "<class 'pandas.core.frame.DataFrame'>\n",
      "RangeIndex: 625134 entries, 0 to 625133\n",
      "Data columns (total 9 columns):\n",
      " #   Column              Non-Null Count   Dtype         \n",
      "---  ------              --------------   -----         \n",
      " 0   id                  625134 non-null  object        \n",
      " 1   vendor_id           625134 non-null  int64         \n",
      " 2   pickup_datetime     625134 non-null  datetime64[ns]\n",
      " 3   passenger_count     625134 non-null  int64         \n",
      " 4   pickup_longitude    625134 non-null  float64       \n",
      " 5   pickup_latitude     625134 non-null  float64       \n",
      " 6   dropoff_longitude   625134 non-null  float64       \n",
      " 7   dropoff_latitude    625134 non-null  float64       \n",
      " 8   store_and_fwd_flag  625134 non-null  object        \n",
      "dtypes: datetime64[ns](1), float64(4), int64(2), object(2)\n",
      "memory usage: 42.9+ MB\n"
     ]
    }
   ],
   "source": [
    "test.info()"
   ]
  },
  {
   "cell_type": "markdown",
   "metadata": {},
   "source": [
    "# Helper functions"
   ]
  },
  {
   "cell_type": "code",
   "execution_count": 15,
   "metadata": {},
   "outputs": [],
   "source": [
    "def corr_heatmap(df, cols:list=None):\n",
    "    if cols:\n",
    "        corr_matrix = df[cols].corr()\n",
    "    else:\n",
    "        corr_matrix = df.corr()\n",
    "    mask = np.triu(np.ones_like(corr_matrix))\n",
    "    sns.heatmap(corr_matrix, annot=True, mask=mask)\n",
    "def outlier_viz(df, cols:list=None):\n",
    "    if not cols:\n",
    "        cols = list(df.select_dtypes('number').columns)\n",
    "    print(df[cols].describe())\n",
    "\n",
    "    # create a square of subplots\n",
    "    if np.sqrt(len(cols)) % 1 == 0:\n",
    "        square_size = int(np.sqrt(len(cols)))\n",
    "    else:\n",
    "        square_size = int(np.sqrt(len(cols)) + 1)\n",
    "    assert square_size**2 >= len(cols), 'outlier_viz: wrong square size logic'\n",
    "    \n",
    "    # plot boxplot for each num feat\n",
    "    fig, ax = plt.subplots(square_size, square_size, figsize=(square_size*5,square_size*5))\n",
    "    if square_size == 1:\n",
    "        sns.boxplot(data=df, x=cols[0], ax=ax)\n",
    "        plt.suptitle('Outliers visualization')\n",
    "        plt.show()\n",
    "    else:\n",
    "        ax = ax.flatten()\n",
    "        current_plot = 0\n",
    "        for i in range(len(cols)):\n",
    "            sns.boxplot(data=df, x=cols[i], ax=ax[i])\n",
    "        plt.suptitle('Outliers visualization')\n",
    "        plt.show()\n",
    "\n",
    "\n",
    "def drop_zero_records(df, cols:list=None):\n",
    "    # drop records with 0 in the columns specified \n",
    "    if not cols:\n",
    "        cols = df.select_dtypes('number').columns\n",
    "    temp_df = df.copy()\n",
    "    dtypes = dict(df.dtypes)\n",
    "    for col in cols:\n",
    "        temp_df.loc[temp_df[col]==0, [col]] = np.nan\n",
    "        temp_df.dropna(axis=0, subset=[col], inplace=True)\n",
    "    return temp_df.astype(dtypes) # int cols will get converted to float when replacing nulls\n",
    "def drop_statistical_outliers(df, cols:list=None):\n",
    "    # drop records with outlying values in the columns specified\n",
    "    # outliers are further than 3 SDs from the mean\n",
    "    if not cols:\n",
    "        cols = df.select_dtypes('number').columns\n",
    "    temp_df = df.copy()\n",
    "    col_stats = {col:(temp_df[col].mean(), temp_df[col].std()) for col in cols}\n",
    "    for col in cols:\n",
    "        col_lower = col_stats[col][0] - 3*col_stats[col][1] \n",
    "        col_upper = col_stats[col][0] + 3*col_stats[col][1] \n",
    "        temp_df = temp_df[(temp_df[col] < col_upper) & (temp_df[col] > col_lower)]\n",
    "    return temp_df\n",
    "def drop_minmax(df, col, min_to_keep, max_to_keep):\n",
    "    # drop values above max_to_keep or below min_to_keep\n",
    "    return df[(df[col] <= max_to_keep) & (df[col] >= min_to_keep)]\n",
    "\n",
    "    \n",
    "def haversine_distance(df, lat1, lat2, lon1, lon2):\n",
    "    '''\n",
    "    Simple distance calculator, assume angle is so small since we are only in new york city\n",
    "    Returns distance in km\n",
    "\n",
    "    lat1, lat2, lon1, lon2 are col names in df\n",
    "    '''\n",
    "    # make a copy\n",
    "    temp_df = df.copy()\n",
    "    # The math module contains a function named radians which converts from degrees to radians.\n",
    "    lat1_rad = np.vectorize(np.math.radians)(df[lat1])\n",
    "    lat2_rad = np.vectorize(np.math.radians)(df[lat2])\n",
    "    lon1_rad = np.vectorize(np.math.radians)(df[lon1])\n",
    "    lon2_rad = np.vectorize(np.math.radians)(df[lon2])\n",
    "\n",
    "    # Haversine formula\n",
    "    dlon = lon2_rad - lon1_rad\n",
    "    dlat = lat2_rad - lat1_rad\n",
    "    a = np.vectorize(np.math.sin)(dlat / 2)**2 + \\\n",
    "        np.vectorize(np.math.cos)(lat1_rad) * np.vectorize(np.math.cos)(lat2_rad) * np.vectorize(np.math.sin)(dlon / 2)**2\n",
    " \n",
    "    c = 2 * np.vectorize(np.math.asin)(np.sqrt(a))\n",
    "    \n",
    "    # Radius of earth in kilometers. Use 3956 for miles\n",
    "    r = 6371\n",
    "\n",
    "    # calculate the result\n",
    "    temp_df['trip_distance'] = c*r \n",
    "    return temp_df  "
   ]
  },
  {
   "cell_type": "code",
   "execution_count": 16,
   "metadata": {},
   "outputs": [
    {
     "data": {
      "text/html": [
       "<div>\n",
       "<style scoped>\n",
       "    .dataframe tbody tr th:only-of-type {\n",
       "        vertical-align: middle;\n",
       "    }\n",
       "\n",
       "    .dataframe tbody tr th {\n",
       "        vertical-align: top;\n",
       "    }\n",
       "\n",
       "    .dataframe thead th {\n",
       "        text-align: right;\n",
       "    }\n",
       "</style>\n",
       "<table border=\"1\" class=\"dataframe\">\n",
       "  <thead>\n",
       "    <tr style=\"text-align: right;\">\n",
       "      <th></th>\n",
       "      <th>col1</th>\n",
       "      <th>col2</th>\n",
       "    </tr>\n",
       "  </thead>\n",
       "  <tbody>\n",
       "    <tr>\n",
       "      <th>1</th>\n",
       "      <td>2</td>\n",
       "      <td>3</td>\n",
       "    </tr>\n",
       "  </tbody>\n",
       "</table>\n",
       "</div>"
      ],
      "text/plain": [
       "   col1  col2\n",
       "1     2     3"
      ]
     },
     "execution_count": 16,
     "metadata": {},
     "output_type": "execute_result"
    }
   ],
   "source": [
    "drop_zero_records(pd.DataFrame({'col1': [1, 2, 0], 'col2': [0, 3, 4]}))"
   ]
  },
  {
   "cell_type": "code",
   "execution_count": 17,
   "metadata": {},
   "outputs": [
    {
     "data": {
      "text/html": [
       "<div>\n",
       "<style scoped>\n",
       "    .dataframe tbody tr th:only-of-type {\n",
       "        vertical-align: middle;\n",
       "    }\n",
       "\n",
       "    .dataframe tbody tr th {\n",
       "        vertical-align: top;\n",
       "    }\n",
       "\n",
       "    .dataframe thead th {\n",
       "        text-align: right;\n",
       "    }\n",
       "</style>\n",
       "<table border=\"1\" class=\"dataframe\">\n",
       "  <thead>\n",
       "    <tr style=\"text-align: right;\">\n",
       "      <th></th>\n",
       "      <th>col1</th>\n",
       "      <th>col2</th>\n",
       "    </tr>\n",
       "  </thead>\n",
       "  <tbody>\n",
       "    <tr>\n",
       "      <th>0</th>\n",
       "      <td>1</td>\n",
       "      <td>3</td>\n",
       "    </tr>\n",
       "    <tr>\n",
       "      <th>1</th>\n",
       "      <td>2</td>\n",
       "      <td>4</td>\n",
       "    </tr>\n",
       "  </tbody>\n",
       "</table>\n",
       "</div>"
      ],
      "text/plain": [
       "   col1  col2\n",
       "0     1     3\n",
       "1     2     4"
      ]
     },
     "execution_count": 17,
     "metadata": {},
     "output_type": "execute_result"
    }
   ],
   "source": [
    "drop_statistical_outliers(pd.DataFrame({'col1': [1, 2], 'col2': [3, 4]}))"
   ]
  },
  {
   "cell_type": "code",
   "execution_count": 18,
   "metadata": {},
   "outputs": [
    {
     "data": {
      "text/html": [
       "<div>\n",
       "<style scoped>\n",
       "    .dataframe tbody tr th:only-of-type {\n",
       "        vertical-align: middle;\n",
       "    }\n",
       "\n",
       "    .dataframe tbody tr th {\n",
       "        vertical-align: top;\n",
       "    }\n",
       "\n",
       "    .dataframe thead th {\n",
       "        text-align: right;\n",
       "    }\n",
       "</style>\n",
       "<table border=\"1\" class=\"dataframe\">\n",
       "  <thead>\n",
       "    <tr style=\"text-align: right;\">\n",
       "      <th></th>\n",
       "      <th>col1</th>\n",
       "      <th>col2</th>\n",
       "    </tr>\n",
       "  </thead>\n",
       "  <tbody>\n",
       "    <tr>\n",
       "      <th>0</th>\n",
       "      <td>1</td>\n",
       "      <td>3</td>\n",
       "    </tr>\n",
       "  </tbody>\n",
       "</table>\n",
       "</div>"
      ],
      "text/plain": [
       "   col1  col2\n",
       "0     1     3"
      ]
     },
     "execution_count": 18,
     "metadata": {},
     "output_type": "execute_result"
    }
   ],
   "source": [
    "drop_minmax(pd.DataFrame({'col1': [1, 2], 'col2': [3, 4]}), 'col1', 1, 1.5)"
   ]
  },
  {
   "cell_type": "markdown",
   "metadata": {},
   "source": [
    "# Clean training data\n",
    "- convert to correct datatypes\n",
    "- check for duplicates\n",
    "- replacing nulls and filtering out outliers\n",
    "- feature selection by variance and correlation"
   ]
  },
  {
   "cell_type": "code",
   "execution_count": 19,
   "metadata": {},
   "outputs": [],
   "source": [
    "assert not df.duplicated().any(), 'Duplicate records found'"
   ]
  },
  {
   "cell_type": "code",
   "execution_count": 20,
   "metadata": {},
   "outputs": [
    {
     "data": {
      "text/plain": [
       "id                    False\n",
       "vendor_id             False\n",
       "pickup_datetime       False\n",
       "dropoff_datetime      False\n",
       "passenger_count       False\n",
       "pickup_longitude      False\n",
       "pickup_latitude       False\n",
       "dropoff_longitude     False\n",
       "dropoff_latitude      False\n",
       "store_and_fwd_flag    False\n",
       "trip_duration         False\n",
       "dtype: bool"
      ]
     },
     "execution_count": 20,
     "metadata": {},
     "output_type": "execute_result"
    }
   ],
   "source": [
    "df.isna().any()"
   ]
  },
  {
   "cell_type": "code",
   "execution_count": 21,
   "metadata": {},
   "outputs": [
    {
     "name": "stdout",
     "output_type": "stream",
     "text": [
      "          vendor_id  passenger_count  pickup_longitude  pickup_latitude  \\\n",
      "count  1.458644e+06     1.458644e+06      1.458644e+06     1.458644e+06   \n",
      "mean   1.534950e+00     1.664530e+00     -7.397349e+01     4.075092e+01   \n",
      "std    4.987772e-01     1.314242e+00      7.090186e-02     3.288119e-02   \n",
      "min    1.000000e+00     0.000000e+00     -1.219333e+02     3.435970e+01   \n",
      "25%    1.000000e+00     1.000000e+00     -7.399187e+01     4.073735e+01   \n",
      "50%    2.000000e+00     1.000000e+00     -7.398174e+01     4.075410e+01   \n",
      "75%    2.000000e+00     2.000000e+00     -7.396733e+01     4.076836e+01   \n",
      "max    2.000000e+00     9.000000e+00     -6.133553e+01     5.188108e+01   \n",
      "\n",
      "       dropoff_longitude  dropoff_latitude  trip_duration  \n",
      "count       1.458644e+06      1.458644e+06   1.458644e+06  \n",
      "mean       -7.397342e+01      4.075180e+01   9.594923e+02  \n",
      "std         7.064327e-02      3.589056e-02   5.237432e+03  \n",
      "min        -1.219333e+02      3.218114e+01   1.000000e+00  \n",
      "25%        -7.399133e+01      4.073588e+01   3.970000e+02  \n",
      "50%        -7.397975e+01      4.075452e+01   6.620000e+02  \n",
      "75%        -7.396301e+01      4.076981e+01   1.075000e+03  \n",
      "max        -6.133553e+01      4.392103e+01   3.526282e+06  \n"
     ]
    },
    {
     "data": {
      "image/png": "[encoded data removed]",
      "text/plain": [
       "<Figure size 1080x1080 with 9 Axes>"
      ]
     },
     "metadata": {
      "needs_background": "light"
     },
     "output_type": "display_data"
    }
   ],
   "source": [
    "outlier_viz(df)"
   ]
  },
  {
   "cell_type": "code",
   "execution_count": 22,
   "metadata": {},
   "outputs": [],
   "source": [
    "# passenger_count --> 0 passengers\n",
    "# longtitude and latitude should be somewhat within NYC's vicinity --> longtitude have min max like frim -120,-60 very weird\n",
    "# trip duration (seconds) --> max of 3.5 million need to remove outliers\n",
    "\n",
    "# remove zero passenger\n",
    "df = drop_zero_records(df, ['passenger_count'])\n",
    "# remove statistical outliers\n",
    "df = drop_statistical_outliers(df)\n",
    "# remove outlying by min max\n",
    "NYC_MIN_LON, NYC_MAX_LON = -74.4, -73.4 # approx from google map\n",
    "NYC_MIN_LAT, NYC_MAX_LAT = 40, 41.6\n",
    "df = drop_minmax(df, 'pickup_latitude', NYC_MIN_LAT, NYC_MAX_LAT)\n",
    "df = drop_minmax(df, 'pickup_longitude', NYC_MIN_LON, NYC_MAX_LON)\n",
    "df = drop_minmax(df, 'dropoff_latitude', NYC_MIN_LAT, NYC_MAX_LAT)\n",
    "df = drop_minmax(df, 'dropoff_longitude', NYC_MIN_LON, NYC_MAX_LON)"
   ]
  },
  {
   "cell_type": "code",
   "execution_count": 23,
   "metadata": {},
   "outputs": [
    {
     "name": "stdout",
     "output_type": "stream",
     "text": [
      "          vendor_id  passenger_count  pickup_longitude  pickup_latitude  \\\n",
      "count  1.361116e+06     1.361116e+06      1.361116e+06     1.361116e+06   \n",
      "mean   1.517561e+00     1.513992e+00     -7.397779e+01     4.075328e+01   \n",
      "std    4.996917e-01     1.057215e+00      2.561877e-02     2.301852e-02   \n",
      "min    1.000000e+00     1.000000e+00     -7.418407e+01     4.065229e+01   \n",
      "25%    1.000000e+00     1.000000e+00     -7.399213e+01     4.073883e+01   \n",
      "50%    2.000000e+00     1.000000e+00     -7.398209e+01     4.075491e+01   \n",
      "75%    2.000000e+00     2.000000e+00     -7.396871e+01     4.076866e+01   \n",
      "max    2.000000e+00     5.000000e+00     -7.376234e+01     4.084953e+01   \n",
      "\n",
      "       dropoff_longitude  dropoff_latitude  trip_duration  \n",
      "count       1.361116e+06      1.361116e+06   1.361116e+06  \n",
      "mean       -7.397505e+01      4.075261e+01   7.878104e+02  \n",
      "std         3.100411e-02      2.876118e-02   5.764901e+02  \n",
      "min        -7.418524e+01      4.064413e+01   1.000000e+00  \n",
      "25%        -7.399142e+01      4.073695e+01   3.900000e+02  \n",
      "50%        -7.398006e+01      4.075484e+01   6.440000e+02  \n",
      "75%        -7.396400e+01      4.076985e+01   1.025000e+03  \n",
      "max        -7.376152e+01      4.085947e+01   1.561700e+04  \n"
     ]
    },
    {
     "data": {
      "image/png": "[encoded data removed]",
      "text/plain": [
       "<Figure size 1080x1080 with 9 Axes>"
      ]
     },
     "metadata": {
      "needs_background": "light"
     },
     "output_type": "display_data"
    }
   ],
   "source": [
    "outlier_viz(df)"
   ]
  },
  {
   "cell_type": "code",
   "execution_count": 24,
   "metadata": {},
   "outputs": [
    {
     "data": {
      "image/png": "[encoded data removed]",
      "text/plain": [
       "<Figure size 432x288 with 2 Axes>"
      ]
     },
     "metadata": {
      "needs_background": "light"
     },
     "output_type": "display_data"
    }
   ],
   "source": [
    "corr_heatmap(df)\n",
    "\n",
    "# understandable that longtitudes and latitudes have some kind of correlation since they are in the same region"
   ]
  },
  {
   "cell_type": "markdown",
   "metadata": {},
   "source": [
    "# EDA to get overall insights"
   ]
  },
  {
   "cell_type": "code",
   "execution_count": 25,
   "metadata": {},
   "outputs": [
    {
     "name": "stdout",
     "output_type": "stream",
     "text": [
      "Total trips in dataset = 1361116 trips\n"
     ]
    }
   ],
   "source": [
    "# Total trips\n",
    "print(f'Total trips in dataset = {len(df)} trips')"
   ]
  },
  {
   "cell_type": "code",
   "execution_count": 26,
   "metadata": {},
   "outputs": [
    {
     "name": "stdout",
     "output_type": "stream",
     "text": [
      "Pickup time range: 2016-01-01 00:00:17 - 2016-06-30 23:59:39\n",
      "Dropoff time range: 2016-01-01 00:03:31 - 2016-07-01 00:46:37\n"
     ]
    }
   ],
   "source": [
    "# Time\n",
    "print('Pickup time range:', df['pickup_datetime'].min(), '-', df['pickup_datetime'].max())\n",
    "print('Dropoff time range:', df['dropoff_datetime'].min(), '-', df['dropoff_datetime'].max())"
   ]
  },
  {
   "cell_type": "code",
   "execution_count": 27,
   "metadata": {},
   "outputs": [
    {
     "data": {
      "image/png": "[encoded data removed]",
      "text/plain": [
       "<Figure size 1152x720 with 4 Axes>"
      ]
     },
     "metadata": {
      "needs_background": "light"
     },
     "output_type": "display_data"
    }
   ],
   "source": [
    "# of NYC taxi trips by selected datetime features (Jan-Jun 2016)\n",
    "plt.figure(figsize=(16,10))\n",
    "plt.suptitle('# of NYC taxi trips by selected datetime features (Jan-Jun 2016)', size=15)\n",
    "\n",
    "plt.subplot(221)\n",
    "sns.countplot(data=df, x= df['pickup_datetime'].dt.month, hue='vendor_id')\n",
    "plt.xlabel('Month')\n",
    "plt.ylabel('Trips count')\n",
    "\n",
    "plt.subplot(222)\n",
    "sns.countplot(data=df, x= df['pickup_datetime'].dt.day_of_week, hue='vendor_id')\n",
    "plt.xlabel('Day of week')\n",
    "plt.ylabel('Trips count')\n",
    "\n",
    "plt.subplot(223)\n",
    "sns.countplot(data=df, x= df['pickup_datetime'].dt.day, hue='vendor_id')\n",
    "plt.xlabel('Day of month')\n",
    "plt.ylabel('Trips count')\n",
    "\n",
    "plt.subplot(224)\n",
    "sns.countplot(data=df, x= df['pickup_datetime'].dt.hour, hue='vendor_id')\n",
    "plt.xlabel('Hour of day')\n",
    "plt.ylabel('Trips count')\n",
    "\n",
    "plt.show()"
   ]
  },
  {
   "cell_type": "code",
   "execution_count": 28,
   "metadata": {},
   "outputs": [
    {
     "data": {
      "image/png": "[encoded data removed]",
      "text/plain": [
       "<Figure size 1152x720 with 4 Axes>"
      ]
     },
     "metadata": {
      "needs_background": "light"
     },
     "output_type": "display_data"
    }
   ],
   "source": [
    "# NYC taxi average trip duration by selected datetime features (Jan-Jun 2016)\n",
    "plt.figure(figsize=(16,10))\n",
    "plt.suptitle('NYC taxi average trip duration by selected datetime features (Jan-Jun 2016)', size=15)\n",
    "\n",
    "plt.subplot(221)\n",
    "sns.barplot(data=df, x= df['pickup_datetime'].dt.month, y='trip_duration', hue='vendor_id')\n",
    "plt.xlabel('Month')\n",
    "plt.ylabel('Average duration (sec)')\n",
    "\n",
    "plt.subplot(222)\n",
    "sns.barplot(data=df, x= df['pickup_datetime'].dt.day_of_week, y='trip_duration', hue='vendor_id')\n",
    "plt.xlabel('Day of week')\n",
    "plt.ylabel('Average duration (sec)')\n",
    "\n",
    "plt.subplot(223)\n",
    "sns.barplot(data=df, x= df['pickup_datetime'].dt.day, y='trip_duration', hue='vendor_id')\n",
    "plt.xlabel('Day of month')\n",
    "plt.ylabel('Average duration (sec)')\n",
    "\n",
    "plt.subplot(224)\n",
    "sns.barplot(data=df, x= df['pickup_datetime'].dt.hour, y='trip_duration', hue='vendor_id')\n",
    "plt.xlabel('Hour of day')\n",
    "plt.ylabel('Average duration (sec)')\n",
    "\n",
    "plt.show()"
   ]
  },
  {
   "cell_type": "code",
   "execution_count": 30,
   "metadata": {},
   "outputs": [],
   "source": [
    "# Pickup and dropoff locations\n",
    "\n",
    "# plt.figure(figsize=(15,5))\n",
    "# plt.suptitle('NYC pickup and dropoff locations', size=15)\n",
    "\n",
    "# plt.subplot(121)\n",
    "# sns.scatterplot(data=df, y='pickup_latitude', x='pickup_longitude', hue='vendor_id')\n",
    "\n",
    "# plt.subplot(122)\n",
    "# sns.scatterplot(data=df, y='dropoff_latitude', x='dropoff_longitude', hue='vendor_id')\n",
    "\n",
    "# ~3m to run"
   ]
  },
  {
   "cell_type": "markdown",
   "metadata": {},
   "source": [
    "# Feature Engineering\n",
    "- inspect each feature\n",
    "- create new features"
   ]
  },
  {
   "cell_type": "markdown",
   "metadata": {},
   "source": [
    "## Target variable"
   ]
  },
  {
   "cell_type": "code",
   "execution_count": 31,
   "metadata": {},
   "outputs": [
    {
     "data": {
      "image/png": "[encoded data removed]",
      "text/plain": [
       "<Figure size 432x288 with 1 Axes>"
      ]
     },
     "metadata": {
      "needs_background": "light"
     },
     "output_type": "display_data"
    }
   ],
   "source": [
    "sns.histplot(data=df, x='trip_duration')\n",
    "plt.show()"
   ]
  },
  {
   "cell_type": "code",
   "execution_count": 32,
   "metadata": {},
   "outputs": [
    {
     "data": {
      "image/png": "[encoded data removed]",
      "text/plain": [
       "<Figure size 432x288 with 1 Axes>"
      ]
     },
     "metadata": {
      "needs_background": "light"
     },
     "output_type": "display_data"
    }
   ],
   "source": [
    "sns.histplot(data=df, x=np.log(df['trip_duration']))\n",
    "plt.show()"
   ]
  },
  {
   "cell_type": "code",
   "execution_count": 33,
   "metadata": {},
   "outputs": [],
   "source": [
    "# consider converting target to be kind of normally distributed instead of skewed\n",
    "# will be positive only also\n",
    "df['log_trip_duration'] = np.log(df['trip_duration'])"
   ]
  },
  {
   "cell_type": "markdown",
   "metadata": {},
   "source": [
    "## Categorical features"
   ]
  },
  {
   "cell_type": "code",
   "execution_count": 34,
   "metadata": {},
   "outputs": [
    {
     "data": {
      "image/png": "[encoded data removed]",
      "text/plain": [
       "<Figure size 1080x360 with 2 Axes>"
      ]
     },
     "metadata": {
      "needs_background": "light"
     },
     "output_type": "display_data"
    }
   ],
   "source": [
    "plt.figure(figsize=(15,5))\n",
    "\n",
    "plt.subplot(121)\n",
    "sns.countplot(data=df, x='vendor_id')\n",
    "plt.subplot(122)\n",
    "sns.countplot(data=df, x='store_and_fwd_flag')\n",
    "\n",
    "plt.show()\n",
    "\n",
    "# both vendors have similar amount of trips\n",
    "# store_and_fwd_flag feature do not have any value in helping to predict the outcomes"
   ]
  },
  {
   "cell_type": "markdown",
   "metadata": {},
   "source": [
    "## Datetime features\n"
   ]
  },
  {
   "cell_type": "code",
   "execution_count": 35,
   "metadata": {},
   "outputs": [],
   "source": [
    "df['pickup_datetime_month'] = df['pickup_datetime'].dt.month\n",
    "df['pickup_datetime_date'] = df['pickup_datetime'].dt.day\n",
    "df['pickup_datetime_day_of_week'] = df['pickup_datetime'].dt.day_of_week\n",
    "df['pickup_datetime_hour'] = df['pickup_datetime'].dt.hour\n",
    "\n",
    "df['dropoff_datetime_month'] = df['dropoff_datetime'].dt.month\n",
    "df['dropoff_datetime_date'] = df['dropoff_datetime'].dt.day\n",
    "df['dropoff_datetime_day_of_week'] = df['dropoff_datetime'].dt.day_of_week\n",
    "df['dropoff_datetime_hour'] = df['dropoff_datetime'].dt.hour"
   ]
  },
  {
   "cell_type": "markdown",
   "metadata": {},
   "source": [
    "## Numeric features\n"
   ]
  },
  {
   "cell_type": "code",
   "execution_count": 36,
   "metadata": {},
   "outputs": [],
   "source": [
    "# create trip distance feature\n",
    "df = haversine_distance(df, 'pickup_latitude', 'dropoff_latitude', 'pickup_longitude', 'dropoff_longitude')"
   ]
  },
  {
   "cell_type": "code",
   "execution_count": 37,
   "metadata": {},
   "outputs": [
    {
     "name": "stdout",
     "output_type": "stream",
     "text": [
      "       trip_distance\n",
      "count   1.361116e+06\n",
      "mean    2.984235e+00\n",
      "std     2.897575e+00\n",
      "min     0.000000e+00\n",
      "25%     1.212563e+00\n",
      "50%     2.029004e+00\n",
      "75%     3.611901e+00\n",
      "max     3.351988e+01\n"
     ]
    },
    {
     "data": {
      "image/png": "[encoded data removed]",
      "text/plain": [
       "<Figure size 360x360 with 1 Axes>"
      ]
     },
     "metadata": {
      "needs_background": "light"
     },
     "output_type": "display_data"
    }
   ],
   "source": [
    "outlier_viz(df, ['trip_distance'])\n",
    "\n",
    "# need to remove zero distance"
   ]
  },
  {
   "cell_type": "code",
   "execution_count": 38,
   "metadata": {},
   "outputs": [],
   "source": [
    "df = drop_zero_records(df, ['trip_distance'])"
   ]
  },
  {
   "cell_type": "code",
   "execution_count": 39,
   "metadata": {},
   "outputs": [
    {
     "name": "stdout",
     "output_type": "stream",
     "text": [
      "       trip_distance\n",
      "count   1.356132e+06\n",
      "mean    2.995202e+00\n",
      "std     2.897231e+00\n",
      "min     4.241750e-04\n",
      "25%     1.219977e+00\n",
      "50%     2.036486e+00\n",
      "75%     3.621622e+00\n",
      "max     3.351988e+01\n"
     ]
    },
    {
     "data": {
      "image/png": "[encoded data removed]",
      "text/plain": [
       "<Figure size 360x360 with 1 Axes>"
      ]
     },
     "metadata": {
      "needs_background": "light"
     },
     "output_type": "display_data"
    }
   ],
   "source": [
    "outlier_viz(df, ['trip_distance'])\n",
    "\n",
    "# need to remove zero distance"
   ]
  },
  {
   "cell_type": "code",
   "execution_count": 40,
   "metadata": {},
   "outputs": [
    {
     "data": {
      "image/png": "[encoded data removed]",
      "text/plain": [
       "<Figure size 432x288 with 1 Axes>"
      ]
     },
     "metadata": {
      "needs_background": "light"
     },
     "output_type": "display_data"
    }
   ],
   "source": [
    "# Trip distance vs trip duration relationship\n",
    "sns.lineplot(\n",
    "    data=df, x=df['trip_distance'].round(1), y='trip_duration',\n",
    "    markers=True, err_style=\"bars\", ci=95\n",
    "    )\n",
    "plt.title('Trip distance vs trip duration relationship')\n",
    "plt.show()"
   ]
  },
  {
   "cell_type": "code",
   "execution_count": 41,
   "metadata": {},
   "outputs": [
    {
     "name": "stdout",
     "output_type": "stream",
     "text": [
      "<class 'pandas.core.frame.DataFrame'>\n",
      "Int64Index: 1356132 entries, 0 to 1458643\n",
      "Data columns (total 21 columns):\n",
      " #   Column                        Non-Null Count    Dtype         \n",
      "---  ------                        --------------    -----         \n",
      " 0   id                            1356132 non-null  object        \n",
      " 1   vendor_id                     1356132 non-null  int64         \n",
      " 2   pickup_datetime               1356132 non-null  datetime64[ns]\n",
      " 3   dropoff_datetime              1356132 non-null  datetime64[ns]\n",
      " 4   passenger_count               1356132 non-null  int64         \n",
      " 5   pickup_longitude              1356132 non-null  float64       \n",
      " 6   pickup_latitude               1356132 non-null  float64       \n",
      " 7   dropoff_longitude             1356132 non-null  float64       \n",
      " 8   dropoff_latitude              1356132 non-null  float64       \n",
      " 9   store_and_fwd_flag            1356132 non-null  object        \n",
      " 10  trip_duration                 1356132 non-null  int64         \n",
      " 11  log_trip_duration             1356132 non-null  float64       \n",
      " 12  pickup_datetime_month         1356132 non-null  int64         \n",
      " 13  pickup_datetime_date          1356132 non-null  int64         \n",
      " 14  pickup_datetime_day_of_week   1356132 non-null  int64         \n",
      " 15  pickup_datetime_hour          1356132 non-null  int64         \n",
      " 16  dropoff_datetime_month        1356132 non-null  int64         \n",
      " 17  dropoff_datetime_date         1356132 non-null  int64         \n",
      " 18  dropoff_datetime_day_of_week  1356132 non-null  int64         \n",
      " 19  dropoff_datetime_hour         1356132 non-null  int64         \n",
      " 20  trip_distance                 1356132 non-null  float64       \n",
      "dtypes: datetime64[ns](2), float64(6), int64(11), object(2)\n",
      "memory usage: 227.6+ MB\n"
     ]
    }
   ],
   "source": [
    "df.info()"
   ]
  },
  {
   "cell_type": "markdown",
   "metadata": {},
   "source": [
    "## Apply feature engineering to test data"
   ]
  },
  {
   "cell_type": "code",
   "execution_count": 42,
   "metadata": {},
   "outputs": [],
   "source": [
    "test['pickup_datetime_month'] = test['pickup_datetime'].dt.month\n",
    "test['pickup_datetime_date'] = test['pickup_datetime'].dt.day\n",
    "test['pickup_datetime_day_of_week'] = test['pickup_datetime'].dt.day_of_week\n",
    "test['pickup_datetime_hour'] = test['pickup_datetime'].dt.hour"
   ]
  },
  {
   "cell_type": "code",
   "execution_count": 43,
   "metadata": {},
   "outputs": [],
   "source": [
    "test = haversine_distance(test, 'pickup_latitude', 'dropoff_latitude', 'pickup_longitude', 'dropoff_longitude')"
   ]
  },
  {
   "cell_type": "code",
   "execution_count": 44,
   "metadata": {},
   "outputs": [
    {
     "name": "stdout",
     "output_type": "stream",
     "text": [
      "<class 'pandas.core.frame.DataFrame'>\n",
      "RangeIndex: 625134 entries, 0 to 625133\n",
      "Data columns (total 14 columns):\n",
      " #   Column                       Non-Null Count   Dtype         \n",
      "---  ------                       --------------   -----         \n",
      " 0   id                           625134 non-null  object        \n",
      " 1   vendor_id                    625134 non-null  int64         \n",
      " 2   pickup_datetime              625134 non-null  datetime64[ns]\n",
      " 3   passenger_count              625134 non-null  int64         \n",
      " 4   pickup_longitude             625134 non-null  float64       \n",
      " 5   pickup_latitude              625134 non-null  float64       \n",
      " 6   dropoff_longitude            625134 non-null  float64       \n",
      " 7   dropoff_latitude             625134 non-null  float64       \n",
      " 8   store_and_fwd_flag           625134 non-null  object        \n",
      " 9   pickup_datetime_month        625134 non-null  int64         \n",
      " 10  pickup_datetime_date         625134 non-null  int64         \n",
      " 11  pickup_datetime_day_of_week  625134 non-null  int64         \n",
      " 12  pickup_datetime_hour         625134 non-null  int64         \n",
      " 13  trip_distance                625134 non-null  float64       \n",
      "dtypes: datetime64[ns](1), float64(5), int64(6), object(2)\n",
      "memory usage: 66.8+ MB\n"
     ]
    }
   ],
   "source": [
    "test.info()"
   ]
  },
  {
   "cell_type": "markdown",
   "metadata": {},
   "source": [
    "# Preprocessing\n",
    "- select features to feed into model (create a pipeline so we tweak with feature selection)\n",
    "- preprocessing pipeline from df -> X,y\n",
    "    - scaling\n",
    "    - make sure that they comply to stats assumptions \n",
    "- train --> train & validate split"
   ]
  },
  {
   "cell_type": "markdown",
   "metadata": {},
   "source": [
    "## Features"
   ]
  },
  {
   "cell_type": "code",
   "execution_count": 45,
   "metadata": {},
   "outputs": [],
   "source": [
    "from sklearn.pipeline import Pipeline\n",
    "from sklearn.preprocessing import FunctionTransformer\n",
    "from sklearn.impute import SimpleImputer\n",
    "from sklearn.preprocessing import StandardScaler\n",
    "from sklearn.compose import ColumnTransformer\n",
    "\n",
    "X_cols_num = [\n",
    "    'trip_distance',\n",
    "    'pickup_datetime_month',\n",
    "    'pickup_datetime_date',\n",
    "    'pickup_datetime_day_of_week',\n",
    "    'pickup_datetime_hour',\n",
    "    'pickup_latitude',\n",
    "    'pickup_longitude',\n",
    "    'dropoff_latitude',\n",
    "    'dropoff_longitude',\n",
    "    ]\n",
    "X_cols_cat = []\n",
    "X_cols = X_cols_num + X_cols_cat\n",
    "\n",
    "num_pipeline = Pipeline(\n",
    "    steps=[\n",
    "        ('median_imputer', SimpleImputer(strategy='median')),\n",
    "        ('standard_scaler', StandardScaler()),\n",
    "    ])\n",
    "\n",
    "preprocessing_pl = Pipeline(\n",
    "    steps=[\n",
    "        ('selector', FunctionTransformer(lambda df: df[X_cols])),\n",
    "        ('column_transformer', ColumnTransformer([('num', num_pipeline, X_cols_num),])),\n",
    "    ])        \n",
    "\n",
    "X = preprocessing_pl.fit_transform(df)"
   ]
  },
  {
   "cell_type": "code",
   "execution_count": 46,
   "metadata": {},
   "outputs": [
    {
     "data": {
      "text/plain": [
       "(1356132, 9)"
      ]
     },
     "execution_count": 46,
     "metadata": {},
     "output_type": "execute_result"
    }
   ],
   "source": [
    "X.shape"
   ]
  },
  {
   "cell_type": "markdown",
   "metadata": {},
   "source": [
    "## Target"
   ]
  },
  {
   "cell_type": "code",
   "execution_count": 47,
   "metadata": {},
   "outputs": [],
   "source": [
    "y_col = ['log_trip_duration']\n",
    "y = df[y_col].values.ravel()"
   ]
  },
  {
   "cell_type": "code",
   "execution_count": 48,
   "metadata": {},
   "outputs": [
    {
     "data": {
      "text/plain": [
       "(1356132,)"
      ]
     },
     "execution_count": 48,
     "metadata": {},
     "output_type": "execute_result"
    }
   ],
   "source": [
    "y.shape"
   ]
  },
  {
   "cell_type": "markdown",
   "metadata": {},
   "source": [
    "## Apply preprocessing to test data"
   ]
  },
  {
   "cell_type": "code",
   "execution_count": 49,
   "metadata": {},
   "outputs": [],
   "source": [
    "X_test = preprocessing_pl.transform(test)"
   ]
  },
  {
   "cell_type": "code",
   "execution_count": 50,
   "metadata": {},
   "outputs": [
    {
     "data": {
      "text/plain": [
       "(625134, 9)"
      ]
     },
     "execution_count": 50,
     "metadata": {},
     "output_type": "execute_result"
    }
   ],
   "source": [
    "X_test.shape"
   ]
  },
  {
   "cell_type": "markdown",
   "metadata": {},
   "source": [
    "# Model selection\n",
    "- train validate split\n",
    "- define metric\n",
    "- select models\n",
    "- cross validate --> select the most promising"
   ]
  },
  {
   "cell_type": "markdown",
   "metadata": {},
   "source": [
    "## Train validate split"
   ]
  },
  {
   "cell_type": "code",
   "execution_count": 51,
   "metadata": {},
   "outputs": [],
   "source": [
    "from sklearn.model_selection import train_test_split\n",
    "\n",
    "X_train, X_val, y_train, y_val = train_test_split(X, y, test_size=0.1, random_state=42)"
   ]
  },
  {
   "cell_type": "code",
   "execution_count": 52,
   "metadata": {},
   "outputs": [
    {
     "name": "stdout",
     "output_type": "stream",
     "text": [
      "(1220518, 9)\n",
      "(1220518,)\n",
      "(135614, 9)\n",
      "(135614,)\n"
     ]
    }
   ],
   "source": [
    "print(X_train.shape)\n",
    "print(y_train.shape)\n",
    "print(X_val.shape)\n",
    "print(y_val.shape)"
   ]
  },
  {
   "cell_type": "markdown",
   "metadata": {},
   "source": [
    "## Metric"
   ]
  },
  {
   "cell_type": "code",
   "execution_count": 53,
   "metadata": {},
   "outputs": [],
   "source": [
    "from sklearn.metrics import mean_squared_error"
   ]
  },
  {
   "cell_type": "markdown",
   "metadata": {},
   "source": [
    "## Try out models"
   ]
  },
  {
   "cell_type": "code",
   "execution_count": 54,
   "metadata": {},
   "outputs": [],
   "source": [
    "def evaluate_regressor_skl(regressor, X_train, y_train, X_val, y_val):\n",
    "    '''\n",
    "    for sklearn models\n",
    "    '''\n",
    "    regressor.fit(X_train, y_train)\n",
    "    # make predictions on training data\n",
    "    y_pred_train = regressor.predict(X_train)\n",
    "    rmse_train = np.sqrt(mean_squared_error(y_train, y_pred_train))\n",
    "\n",
    "    # make predictions on test data\n",
    "    y_pred_val = regressor.predict(X_val)\n",
    "    rmse_val = np.sqrt(mean_squared_error(y_val, y_pred_val))\n",
    "\n",
    "    print(f'Predicting with {regressor}')\n",
    "    print('Training error:')\n",
    "    print(f'Root mean squared error = {rmse_train}')\n",
    "    \n",
    "    print('Validation error:')\n",
    "    print(f'Root mean squared error = {rmse_val}')\n",
    "\n",
    "    return regressor, y_pred_train, y_pred_val"
   ]
  },
  {
   "cell_type": "code",
   "execution_count": 55,
   "metadata": {},
   "outputs": [
    {
     "name": "stdout",
     "output_type": "stream",
     "text": [
      "Predicting with RandomForestRegressor(n_estimators=10, random_state=42)\n",
      "Training error:\n",
      "Root mean squared error = 0.15453684556392164\n",
      "Validation error:\n",
      "Root mean squared error = 0.3658530137327936\n",
      "Feature Importances\n",
      "trip_distance 0.6543417388977175\n",
      "pickup_datetime_month 0.014696130999448772\n",
      "pickup_datetime_date 0.025198043151482313\n",
      "pickup_datetime_day_of_week 0.027012365132205195\n",
      "pickup_datetime_hour 0.0620388698342302\n",
      "pickup_latitude 0.04533497842266118\n",
      "pickup_longitude 0.052033774667504876\n",
      "dropoff_latitude 0.06720894151052077\n",
      "dropoff_longitude 0.0521351573842291\n"
     ]
    }
   ],
   "source": [
    "# try RandomForest\n",
    "from sklearn.ensemble import RandomForestRegressor\n",
    "rf_results = evaluate_regressor_skl(\n",
    "    RandomForestRegressor(n_estimators=10, random_state=42),\n",
    "    X_train, y_train,\n",
    "    X_val, y_val\n",
    "    )\n",
    "\n",
    "print('Feature Importances')\n",
    "for name, im in zip(X_cols, rf_results[0].feature_importances_):\n",
    "    print(name, im)\n",
    "\n",
    "# Predicting with RandomForestRegressor(n_estimators=10, random_state=42)\n",
    "# Training error:\n",
    "# Root mean squared error = 0.21298892236395256\n",
    "# Validation error:\n",
    "# Root mean squared error = 0.5121217635449816\n",
    "# Feature Importances\n",
    "# trip_distance 0.9321792621990385\n",
    "# pickup_datetime_hour 0.06782073780096153\n",
    "# ~1m\n",
    "\n",
    "# Predicting with RandomForestRegressor(n_estimators=10, random_state=42)\n",
    "# Training error:\n",
    "# Root mean squared error = 0.19146328164485682\n",
    "# Validation error:\n",
    "# Root mean squared error = 0.45934596551472295\n",
    "# Feature Importances\n",
    "# trip_distance 0.8052730344329965\n",
    "# pickup_datetime_month 0.027179205065420934\n",
    "# pickup_datetime_date 0.05722569209267061\n",
    "# pickup_datetime_day_of_week 0.03488641911029202\n",
    "# pickup_datetime_hour 0.07543564929862005\n",
    "# ~1m\n",
    "\n",
    "# Predicting with RandomForestRegressor(n_estimators=10, random_state=42)\n",
    "# Training error:\n",
    "# Root mean squared error = 0.15446201587563724\n",
    "# Validation error:\n",
    "# Root mean squared error = 0.36619055707230813\n",
    "# Feature Importances\n",
    "# trip_distance 0.6543473419560749\n",
    "# pickup_datetime_month 0.014698524770306436\n",
    "# pickup_datetime_date 0.025215566235644974\n",
    "# pickup_datetime_day_of_week 0.026974050799446033\n",
    "# pickup_datetime_hour 0.062030661956269426\n",
    "# pickup_latitude 0.04541450411139052\n",
    "# pickup_longitude 0.05204510184635055\n",
    "# dropoff_latitude 0.06708857044779758\n",
    "# dropoff_longitude 0.05218567787671969\n",
    "# ~2m\n",
    "\n",
    "# overfit"
   ]
  },
  {
   "cell_type": "code",
   "execution_count": 56,
   "metadata": {},
   "outputs": [
    {
     "name": "stdout",
     "output_type": "stream",
     "text": [
      "Training until validation scores don't improve for 5 rounds\n",
      "Did not meet early stopping. Best iteration is:\n",
      "[100]\tvalid_0's l2: 0.138331\n",
      "Predicting with LGBMRegressor(random_state=42)\n",
      "Training error:\n",
      "Root mean squared error = 0.36987599057443793\n",
      "Validation error:\n",
      "Root mean squared error = 0.37192938484360194\n",
      "Feature Importances\n",
      "trip_distance 320\n",
      "pickup_datetime_month 96\n",
      "pickup_datetime_date 113\n",
      "pickup_datetime_day_of_week 323\n",
      "pickup_datetime_hour 633\n",
      "pickup_latitude 299\n",
      "pickup_longitude 363\n",
      "dropoff_latitude 485\n",
      "dropoff_longitude 368\n"
     ]
    }
   ],
   "source": [
    "#Try LightGBM with sklearn API\n",
    "from lightgbm import LGBMRegressor\n",
    "from lightgbm import early_stopping\n",
    "\n",
    "lgbm_model = LGBMRegressor(random_state=42)\n",
    "lgbm_model.fit(X_train, y_train, eval_set=[(X_val,y_val)], callbacks=[early_stopping(5)])\n",
    "\n",
    "y_pred_train = lgbm_model.predict(X_train)\n",
    "y_pred_val = lgbm_model.predict(X_val)\n",
    "\n",
    "rmse_train = np.sqrt(mean_squared_error(y_train, y_pred_train))\n",
    "rmse_val = np.sqrt(mean_squared_error(y_val, y_pred_val))\n",
    "\n",
    "print(f'Predicting with {lgbm_model}')\n",
    "print('Training error:')\n",
    "print(f'Root mean squared error = {rmse_train}')\n",
    "print('Validation error:')\n",
    "print(f'Root mean squared error = {rmse_val}')\n",
    "\n",
    "print('Feature Importances')\n",
    "for name, im in zip(X_cols, lgbm_model.feature_importances_):\n",
    "    print(name, im)\n",
    "    \n",
    "# Predicting with LGBMRegressor(random_state=42)\n",
    "# Training error:\n",
    "# Root mean squared error = 0.43380403473267354\n",
    "# Validation error:\n",
    "# Root mean squared error = 0.43484059800674585\n",
    "# Feature Importances\n",
    "# trip_distance 725\n",
    "# pickup_datetime_hour 1255\n",
    "\n",
    "# Predicting with LGBMRegressor(random_state=42)\n",
    "# Training error:\n",
    "# Root mean squared error = 0.4143312914448092\n",
    "# Validation error:\n",
    "# Root mean squared error = 0.4166324193976163\n",
    "# Feature Importances\n",
    "# trip_distance 545\n",
    "# pickup_datetime_month 315\n",
    "# pickup_datetime_date 472\n",
    "# pickup_datetime_day_of_week 611\n",
    "# pickup_datetime_hour 1027\n",
    "\n",
    "# Predicting with LGBMRegressor(random_state=42)\n",
    "# Training error:\n",
    "# Root mean squared error = 0.36987599057443793\n",
    "# Validation error:\n",
    "# Root mean squared error = 0.37192938484360194\n",
    "# Feature Importances\n",
    "# trip_distance 320\n",
    "# pickup_datetime_month 96\n",
    "# pickup_datetime_date 113\n",
    "# pickup_datetime_day_of_week 323\n",
    "# pickup_datetime_hour 633\n",
    "# pickup_latitude 299\n",
    "# pickup_longitude 363\n",
    "# dropoff_latitude 485\n",
    "# dropoff_longitude 368\n",
    "\n",
    "# not overfitting"
   ]
  },
  {
   "cell_type": "code",
   "execution_count": 63,
   "metadata": {},
   "outputs": [
    {
     "name": "stdout",
     "output_type": "stream",
     "text": [
      "Predicting with HistGradientBoostingRegressor(random_state=42)\n",
      "Training error:\n",
      "Root mean squared error = 0.37075029606579657\n",
      "Validation error:\n",
      "Root mean squared error = 0.37251946552220616\n"
     ]
    }
   ],
   "source": [
    "# try HistogramGradientBoostingRegressor\n",
    "from sklearn.ensemble import HistGradientBoostingRegressor\n",
    "\n",
    "hgb_results = evaluate_regressor_skl(\n",
    "    HistGradientBoostingRegressor(random_state=42),\n",
    "    X_train, y_train,\n",
    "    X_val, y_val\n",
    "    )"
   ]
  },
  {
   "cell_type": "markdown",
   "metadata": {},
   "source": [
    "## Cross validation\n",
    "- LGBMRegressor\n",
    "- HistGradientBoostingRegressor"
   ]
  },
  {
   "cell_type": "code",
   "execution_count": 58,
   "metadata": {},
   "outputs": [],
   "source": [
    "from sklearn.model_selection import cross_val_score\n",
    "\n",
    "cv_scores_lgbm = np.sqrt(-1*np.array(cross_val_score(lgbm_model, X, y, scoring='neg_mean_squared_error', cv=5)))"
   ]
  },
  {
   "cell_type": "code",
   "execution_count": 59,
   "metadata": {},
   "outputs": [
    {
     "name": "stdout",
     "output_type": "stream",
     "text": [
      "[0.37347357 0.37117449 0.37154172 0.37151959 0.37224612]\n",
      "Mean = 0.3719910971620929\n"
     ]
    }
   ],
   "source": [
    "print(cv_scores_lgbm)\n",
    "print(f'Mean = {np.mean(cv_scores_lgbm)}')"
   ]
  },
  {
   "cell_type": "code",
   "execution_count": 64,
   "metadata": {},
   "outputs": [],
   "source": [
    "from sklearn.model_selection import cross_val_score\n",
    "\n",
    "cv_scores_hgb = np.sqrt(-1*np.array(cross_val_score(hgb_results[0], X, y, scoring='neg_mean_squared_error', cv=5)))"
   ]
  },
  {
   "cell_type": "code",
   "execution_count": 65,
   "metadata": {},
   "outputs": [
    {
     "name": "stdout",
     "output_type": "stream",
     "text": [
      "[0.37389155 0.37139152 0.37208683 0.37248075 0.37208645]\n",
      "Mean = 0.37238741852993706\n"
     ]
    }
   ],
   "source": [
    "print(cv_scores_hgb)\n",
    "print(f'Mean = {np.mean(cv_scores_hgb)}')"
   ]
  },
  {
   "cell_type": "markdown",
   "metadata": {},
   "source": [
    "# Hyperparameters tuning\n",
    "https://lightgbm.readthedocs.io/en/latest/Parameters-Tuning.html"
   ]
  },
  {
   "cell_type": "markdown",
   "metadata": {},
   "source": [
    "## look at default params"
   ]
  },
  {
   "cell_type": "code",
   "execution_count": 66,
   "metadata": {},
   "outputs": [
    {
     "data": {
      "text/plain": [
       "{'categorical_features': None,\n",
       " 'early_stopping': 'auto',\n",
       " 'l2_regularization': 0.0,\n",
       " 'learning_rate': 0.1,\n",
       " 'loss': 'squared_error',\n",
       " 'max_bins': 255,\n",
       " 'max_depth': None,\n",
       " 'max_iter': 100,\n",
       " 'max_leaf_nodes': 31,\n",
       " 'min_samples_leaf': 20,\n",
       " 'monotonic_cst': None,\n",
       " 'n_iter_no_change': 10,\n",
       " 'random_state': 42,\n",
       " 'scoring': 'loss',\n",
       " 'tol': 1e-07,\n",
       " 'validation_fraction': 0.1,\n",
       " 'verbose': 0,\n",
       " 'warm_start': False}"
      ]
     },
     "execution_count": 66,
     "metadata": {},
     "output_type": "execute_result"
    }
   ],
   "source": [
    "hgb_results[0].get_params()"
   ]
  },
  {
   "cell_type": "code",
   "execution_count": 78,
   "metadata": {},
   "outputs": [],
   "source": [
    "from sklearn.model_selection import GridSearchCV, RandomizedSearchCV\n",
    "\n",
    "param_grid = {\n",
    "    # param_name: [to random search] + [default value]\n",
    "    'max_leaf_nodes': [31, 50, 75, 100, 150]\n",
    "}\n",
    "\n",
    "regressor = GridSearchCV(HistGradientBoostingRegressor(random_state=42), param_grid, scoring='neg_root_mean_squared_error', cv=3, refit=True)\n",
    "search = regressor.fit(X, y)"
   ]
  },
  {
   "cell_type": "code",
   "execution_count": 83,
   "metadata": {},
   "outputs": [
    {
     "data": {
      "text/plain": [
       "{'mean_fit_time': array([18.73052359, 19.49464583, 22.50808477, 24.18917036, 26.25919636]),\n",
       " 'std_fit_time': array([1.28447605, 0.3791285 , 1.0494515 , 2.19761192, 0.09499564]),\n",
       " 'mean_score_time': array([2.03226201, 2.06227223, 2.02948848, 2.09980432, 2.00261172]),\n",
       " 'std_score_time': array([0.06259198, 0.02404538, 0.26636418, 0.13143511, 0.44582743]),\n",
       " 'param_max_leaf_nodes': masked_array(data=[31, 50, 75, 100, 150],\n",
       "              mask=[False, False, False, False, False],\n",
       "        fill_value='?',\n",
       "             dtype=object),\n",
       " 'params': [{'max_leaf_nodes': 31},\n",
       "  {'max_leaf_nodes': 50},\n",
       "  {'max_leaf_nodes': 75},\n",
       "  {'max_leaf_nodes': 100},\n",
       "  {'max_leaf_nodes': 150}],\n",
       " 'split0_test_score': array([-0.37345938, -0.36705366, -0.36146689, -0.35815069, -0.35337395]),\n",
       " 'split1_test_score': array([-0.3718681 , -0.36501616, -0.36011845, -0.35663261, -0.35205344]),\n",
       " 'split2_test_score': array([-0.37173253, -0.36501736, -0.35973364, -0.35687257, -0.35172076]),\n",
       " 'mean_test_score': array([-0.37235333, -0.36569573, -0.36043966, -0.35721862, -0.35238272]),\n",
       " 'std_test_score': array([0.00078405, 0.0009602 , 0.00074315, 0.00066631, 0.00071394]),\n",
       " 'rank_test_score': array([5, 4, 3, 2, 1])}"
      ]
     },
     "execution_count": 83,
     "metadata": {},
     "output_type": "execute_result"
    }
   ],
   "source": [
    "# we got better results with more max_leaf_nodes\n",
    "search.cv_results_"
   ]
  },
  {
   "cell_type": "markdown",
   "metadata": {},
   "source": [
    "# Train with tuned hyperparams and predict with unseen test data"
   ]
  },
  {
   "cell_type": "code",
   "execution_count": 84,
   "metadata": {},
   "outputs": [],
   "source": [
    "best_estimator = search.best_estimator_\n",
    "y_test = np.exp(best_estimator.predict(X_test))"
   ]
  },
  {
   "cell_type": "code",
   "execution_count": 85,
   "metadata": {},
   "outputs": [
    {
     "data": {
      "text/plain": [
       "array([ 840.67702814,  628.78601739,  413.14520715, ..., 1478.33810421,\n",
       "       1925.99716227, 1203.01808143])"
      ]
     },
     "execution_count": 85,
     "metadata": {},
     "output_type": "execute_result"
    }
   ],
   "source": [
    "y_test"
   ]
  },
  {
   "cell_type": "code",
   "execution_count": 86,
   "metadata": {},
   "outputs": [
    {
     "data": {
      "text/html": [
       "<div>\n",
       "<style scoped>\n",
       "    .dataframe tbody tr th:only-of-type {\n",
       "        vertical-align: middle;\n",
       "    }\n",
       "\n",
       "    .dataframe tbody tr th {\n",
       "        vertical-align: top;\n",
       "    }\n",
       "\n",
       "    .dataframe thead th {\n",
       "        text-align: right;\n",
       "    }\n",
       "</style>\n",
       "<table border=\"1\" class=\"dataframe\">\n",
       "  <thead>\n",
       "    <tr style=\"text-align: right;\">\n",
       "      <th></th>\n",
       "      <th>id</th>\n",
       "      <th>trip_duration</th>\n",
       "    </tr>\n",
       "  </thead>\n",
       "  <tbody>\n",
       "    <tr>\n",
       "      <th>0</th>\n",
       "      <td>id3004672</td>\n",
       "      <td>840.677028</td>\n",
       "    </tr>\n",
       "    <tr>\n",
       "      <th>1</th>\n",
       "      <td>id3505355</td>\n",
       "      <td>628.786017</td>\n",
       "    </tr>\n",
       "    <tr>\n",
       "      <th>2</th>\n",
       "      <td>id1217141</td>\n",
       "      <td>413.145207</td>\n",
       "    </tr>\n",
       "    <tr>\n",
       "      <th>3</th>\n",
       "      <td>id2150126</td>\n",
       "      <td>997.230230</td>\n",
       "    </tr>\n",
       "    <tr>\n",
       "      <th>4</th>\n",
       "      <td>id1598245</td>\n",
       "      <td>328.034119</td>\n",
       "    </tr>\n",
       "    <tr>\n",
       "      <th>...</th>\n",
       "      <td>...</td>\n",
       "      <td>...</td>\n",
       "    </tr>\n",
       "    <tr>\n",
       "      <th>625129</th>\n",
       "      <td>id3008929</td>\n",
       "      <td>291.621189</td>\n",
       "    </tr>\n",
       "    <tr>\n",
       "      <th>625130</th>\n",
       "      <td>id3700764</td>\n",
       "      <td>1268.985348</td>\n",
       "    </tr>\n",
       "    <tr>\n",
       "      <th>625131</th>\n",
       "      <td>id2568735</td>\n",
       "      <td>1478.338104</td>\n",
       "    </tr>\n",
       "    <tr>\n",
       "      <th>625132</th>\n",
       "      <td>id1384355</td>\n",
       "      <td>1925.997162</td>\n",
       "    </tr>\n",
       "    <tr>\n",
       "      <th>625133</th>\n",
       "      <td>id0621643</td>\n",
       "      <td>1203.018081</td>\n",
       "    </tr>\n",
       "  </tbody>\n",
       "</table>\n",
       "<p>625134 rows × 2 columns</p>\n",
       "</div>"
      ],
      "text/plain": [
       "               id  trip_duration\n",
       "0       id3004672     840.677028\n",
       "1       id3505355     628.786017\n",
       "2       id1217141     413.145207\n",
       "3       id2150126     997.230230\n",
       "4       id1598245     328.034119\n",
       "...           ...            ...\n",
       "625129  id3008929     291.621189\n",
       "625130  id3700764    1268.985348\n",
       "625131  id2568735    1478.338104\n",
       "625132  id1384355    1925.997162\n",
       "625133  id0621643    1203.018081\n",
       "\n",
       "[625134 rows x 2 columns]"
      ]
     },
     "execution_count": 86,
     "metadata": {},
     "output_type": "execute_result"
    }
   ],
   "source": [
    "submission = pd.DataFrame()\n",
    "submission['id'] = test.id\n",
    "submission['trip_duration'] = pd.Series(y_test)\n",
    "\n",
    "submission"
   ]
  },
  {
   "cell_type": "code",
   "execution_count": 87,
   "metadata": {},
   "outputs": [],
   "source": [
    "submission.to_csv('submission.csv', index=False)"
   ]
  }
 ],
 "metadata": {
  "interpreter": {
   "hash": "5e57bd0e9122681100ff0c01a77d03a96c53183a268dc781647c7935a0e65936"
  },
  "kernelspec": {
   "display_name": "Python 3.8.8 64-bit ('base': conda)",
   "name": "python3"
  },
  "language_info": {
   "codemirror_mode": {
    "name": "ipython",
    "version": 3
   },
   "file_extension": ".py",
   "mimetype": "text/x-python",
   "name": "python",
   "nbconvert_exporter": "python",
   "pygments_lexer": "ipython3",
   "version": "3.8.8"
  },
  "orig_nbformat": 4
 },
 "nbformat": 4,
 "nbformat_minor": 2
}

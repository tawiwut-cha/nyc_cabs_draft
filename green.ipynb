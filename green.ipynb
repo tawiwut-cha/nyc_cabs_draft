{
 "cells": [
  {
   "cell_type": "markdown",
   "metadata": {},
   "source": [
    "# Predict how long a trip will take\n",
    "# Predict how much the trip will cost\n",
    "\n",
    "- predicting duration in seconds\n",
    "    - why is this useful???\n",
    "    - SHIT, fees are restrospective features\n",
    "    - if this were to be in production, which features do we feed our model??\n",
    "- predicting fare amount a better problem???\n",
    "\n",
    "- measure error with rmsle\n",
    "- train with May 2019\n",
    "- test with June 2019"
   ]
  },
  {
   "cell_type": "code",
   "execution_count": 3,
   "metadata": {},
   "outputs": [],
   "source": [
    "import pandas as pd\n",
    "import numpy as np\n",
    "import matplotlib.pyplot as plt\n",
    "import seaborn as sns"
   ]
  },
  {
   "cell_type": "markdown",
   "metadata": {},
   "source": [
    "# Load data"
   ]
  },
  {
   "cell_type": "code",
   "execution_count": 10,
   "metadata": {},
   "outputs": [
    {
     "name": "stdout",
     "output_type": "stream",
     "text": [
      "<class 'pandas.core.frame.DataFrame'>\n",
      "Int64Index: 493058 entries, 0 to 504886\n",
      "Data columns (total 20 columns):\n",
      " #   Column                 Non-Null Count   Dtype         \n",
      "---  ------                 --------------   -----         \n",
      " 0   VendorID               493058 non-null  int64         \n",
      " 1   lpep_pickup_datetime   493058 non-null  datetime64[ns]\n",
      " 2   lpep_dropoff_datetime  493058 non-null  datetime64[ns]\n",
      " 3   store_and_fwd_flag     493058 non-null  object        \n",
      " 4   RatecodeID             493058 non-null  int64         \n",
      " 5   PULocationID           493058 non-null  int64         \n",
      " 6   DOLocationID           493058 non-null  int64         \n",
      " 7   passenger_count        493058 non-null  int64         \n",
      " 8   trip_distance          493058 non-null  float64       \n",
      " 9   fare_amount            493058 non-null  float64       \n",
      " 10  extra                  493058 non-null  float64       \n",
      " 11  mta_tax                493058 non-null  float64       \n",
      " 12  tip_amount             493058 non-null  float64       \n",
      " 13  tolls_amount           493058 non-null  float64       \n",
      " 14  ehail_fee              0 non-null       float64       \n",
      " 15  improvement_surcharge  493058 non-null  float64       \n",
      " 16  total_amount           493058 non-null  float64       \n",
      " 17  payment_type           493058 non-null  int64         \n",
      " 18  trip_type              493058 non-null  int64         \n",
      " 19  congestion_surcharge   493058 non-null  float64       \n",
      "dtypes: datetime64[ns](2), float64(10), int64(7), object(1)\n",
      "memory usage: 79.0+ MB\n"
     ]
    }
   ],
   "source": [
    "df = pd.read_csv('datasets/green_tripdata_2019-05.csv', parse_dates=['lpep_pickup_datetime', 'lpep_dropoff_datetime'])\n",
    "df = df[df.RatecodeID == 1]\n",
    "df.info()"
   ]
  },
  {
   "cell_type": "code",
   "execution_count": 22,
   "metadata": {},
   "outputs": [
    {
     "name": "stdout",
     "output_type": "stream",
     "text": [
      "<class 'pandas.core.frame.DataFrame'>\n",
      "RangeIndex: 265 entries, 0 to 264\n",
      "Data columns (total 4 columns):\n",
      " #   Column        Non-Null Count  Dtype \n",
      "---  ------        --------------  ----- \n",
      " 0   LocationID    265 non-null    int64 \n",
      " 1   Borough       265 non-null    object\n",
      " 2   Zone          264 non-null    object\n",
      " 3   service_zone  263 non-null    object\n",
      "dtypes: int64(1), object(3)\n",
      "memory usage: 8.4+ KB\n"
     ]
    }
   ],
   "source": [
    "location_lookup = pd.read_csv('datasets/taxi+_zone_lookup.csv')\n",
    "location_lookup.info()"
   ]
  },
  {
   "cell_type": "markdown",
   "metadata": {},
   "source": [
    "seems like there are some hidden nulls"
   ]
  },
  {
   "cell_type": "markdown",
   "metadata": {},
   "source": [
    "# Look at features\n",
    "\n",
    "- Pickup & drop off time\n",
    "    - use these two features to derive our target variable = duration\n",
    "    - can derive hour of the day that can be useful\n",
    "- Location ID\n",
    "    - can we tell much about these??\n",
    "- RateCodeId\n",
    "    - we'll look at 'Standard rate' only\n",
    "    - other code will have different fees calculation\n",
    "- fees related stuff should be correlated in some way, look to select only a few\n",
    "    - fare_amount - calculated by meter\n",
    "    - extra - 0.5 for rush hour and 1 for overnight (let's try to binarize these)\n",
    "    - tip_amount - cash tips not included\n",
    "    - tolls_amount - tools fee\n",
    "    - mta_tax, improvement_surcharge --> constant\n",
    "    - ehail_fee all null\n",
    "    - congestion_surcharge - can this help indicate traffic\n",
    "\n",
    "    - total_amount = total that customer paid except tips (can only use this for basic model)\n",
    "\n",
    "\n",
    "- Discard some features\n",
    "    - VendorID\n",
    "        - let's assume that they all have similar drivers and release schedules\n",
    "        - this may be an issue if some vendors have only night shifts = less traffic\n",
    "    - store_and_fwd_code\n",
    "        - purely about data submission\n",
    "    - RateCodeId\n",
    "        - we've already used this for filtering (we currently focus on Standard rate)\n",
    "    - passenger_count\n",
    "        - should have no influence on trip distance????????\n",
    "    - mta_tax, improvement_surcharge\n",
    "        - constant\n",
    "    - tip_amount\n",
    "        - remove because cash trips are not included in the data\n",
    "    - payment type\n",
    "    - trip_type\n",
    "        - street hail or dispatch should not have influence on duration\n",
    "        - duration is calculated from "
   ]
  },
  {
   "cell_type": "code",
   "execution_count": 12,
   "metadata": {},
   "outputs": [],
   "source": [
    "BASIC_MODEL = ['lpep_pickup_datetime', 'lpep_dropoff_datetime', 'PULocationID', 'DOLocationID', 'trip_distance']"
   ]
  },
  {
   "cell_type": "markdown",
   "metadata": {},
   "source": [
    "# Basic model"
   ]
  },
  {
   "cell_type": "code",
   "execution_count": 18,
   "metadata": {},
   "outputs": [],
   "source": [
    "df_basic = df[BASIC_MODEL]"
   ]
  },
  {
   "cell_type": "markdown",
   "metadata": {},
   "source": [
    "## Feature engineering\n",
    "- derive target variable\n",
    "- join location id to lookup table\n",
    "    - and get borough name only??\n",
    "    - will this help much??\n",
    "- weekend binary\n",
    "- rush hour, working hours, overnight bins"
   ]
  },
  {
   "cell_type": "code",
   "execution_count": null,
   "metadata": {},
   "outputs": [],
   "source": []
  },
  {
   "cell_type": "markdown",
   "metadata": {},
   "source": [
    "## EDA"
   ]
  },
  {
   "cell_type": "code",
   "execution_count": 19,
   "metadata": {},
   "outputs": [],
   "source": [
    "# sample for EDA\n",
    "df_basic_sample = df_basic.sample(n=10000, random_state=9)"
   ]
  },
  {
   "cell_type": "code",
   "execution_count": null,
   "metadata": {},
   "outputs": [],
   "source": [
    "# trip distance"
   ]
  },
  {
   "cell_type": "code",
   "execution_count": null,
   "metadata": {},
   "outputs": [],
   "source": [
    "# number of trips"
   ]
  },
  {
   "cell_type": "code",
   "execution_count": 20,
   "metadata": {},
   "outputs": [],
   "source": [
    "# number of trips by\n",
    "\n",
    "# date of month (end of month people use cab more, or run out of money use subway haha)\n",
    "# day of week\n",
    "# weekdays and weekends"
   ]
  },
  {
   "cell_type": "code",
   "execution_count": null,
   "metadata": {},
   "outputs": [],
   "source": []
  },
  {
   "cell_type": "code",
   "execution_count": 23,
   "metadata": {},
   "outputs": [],
   "source": [
    "# Pickup and drop off location by boroughs\n",
    "# Do people go cross boroughs with taxis?? indicating longer distances"
   ]
  },
  {
   "cell_type": "markdown",
   "metadata": {},
   "source": [
    "## Fit basic model"
   ]
  }
 ],
 "metadata": {
  "interpreter": {
   "hash": "5e57bd0e9122681100ff0c01a77d03a96c53183a268dc781647c7935a0e65936"
  },
  "kernelspec": {
   "display_name": "Python 3.8.8 64-bit ('base': conda)",
   "name": "python3"
  },
  "language_info": {
   "codemirror_mode": {
    "name": "ipython",
    "version": 3
   },
   "file_extension": ".py",
   "mimetype": "text/x-python",
   "name": "python",
   "nbconvert_exporter": "python",
   "pygments_lexer": "ipython3",
   "version": "3.8.8"
  },
  "orig_nbformat": 4
 },
 "nbformat": 4,
 "nbformat_minor": 2
}

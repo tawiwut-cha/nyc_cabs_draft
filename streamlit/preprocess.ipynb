{
 "cells": [
  {
   "cell_type": "code",
   "execution_count": 2,
   "metadata": {},
   "outputs": [],
   "source": [
    "from preprocess_data_for_streamlit import *"
   ]
  },
  {
   "cell_type": "code",
   "execution_count": 18,
   "metadata": {},
   "outputs": [],
   "source": [
    "SOURCE_FILEPATH = os.path.join(os.pardir, 'datasets', 'train.csv')\n",
    "DESTINATION_FILEPATH = os.path.join(os.pardir, 'datasets', 'train_preprocessed_streamlit.csv')"
   ]
  },
  {
   "cell_type": "code",
   "execution_count": 19,
   "metadata": {},
   "outputs": [],
   "source": [
    "df = pd.read_csv(SOURCE_FILEPATH, parse_dates=['pickup_datetime', 'dropoff_datetime'])"
   ]
  },
  {
   "cell_type": "code",
   "execution_count": 20,
   "metadata": {},
   "outputs": [
    {
     "name": "stdout",
     "output_type": "stream",
     "text": [
      "Cleaning data...\n"
     ]
    }
   ],
   "source": [
    "# Clean data\n",
    "print('Cleaning data...')\n",
    "## remove zero passenger\n",
    "df = drop_zero_records(df, ['passenger_count'])\n",
    "## remove statistical outliers\n",
    "df = drop_statistical_outliers(df)\n",
    "## remove further outliers by min max\n",
    "NYC_MIN_LON, NYC_MAX_LON = -74.4, -73.4 # approx from google map\n",
    "NYC_MIN_LAT, NYC_MAX_LAT = 40, 41.6 # approx from google map\n",
    "df = drop_minmax(df, 'pickup_latitude', NYC_MIN_LAT, NYC_MAX_LAT)\n",
    "df = drop_minmax(df, 'pickup_longitude', NYC_MIN_LON, NYC_MAX_LON)\n",
    "df = drop_minmax(df, 'dropoff_latitude', NYC_MIN_LAT, NYC_MAX_LAT)\n",
    "df = drop_minmax(df, 'dropoff_longitude', NYC_MIN_LON, NYC_MAX_LON)"
   ]
  },
  {
   "cell_type": "code",
   "execution_count": 21,
   "metadata": {},
   "outputs": [
    {
     "name": "stdout",
     "output_type": "stream",
     "text": [
      "<class 'pandas.core.frame.DataFrame'>\n",
      "Int64Index: 1361116 entries, 0 to 1458643\n",
      "Data columns (total 11 columns):\n",
      " #   Column              Non-Null Count    Dtype         \n",
      "---  ------              --------------    -----         \n",
      " 0   id                  1361116 non-null  object        \n",
      " 1   vendor_id           1361116 non-null  int64         \n",
      " 2   pickup_datetime     1361116 non-null  datetime64[ns]\n",
      " 3   dropoff_datetime    1361116 non-null  datetime64[ns]\n",
      " 4   passenger_count     1361116 non-null  int64         \n",
      " 5   pickup_longitude    1361116 non-null  float64       \n",
      " 6   pickup_latitude     1361116 non-null  float64       \n",
      " 7   dropoff_longitude   1361116 non-null  float64       \n",
      " 8   dropoff_latitude    1361116 non-null  float64       \n",
      " 9   store_and_fwd_flag  1361116 non-null  object        \n",
      " 10  trip_duration       1361116 non-null  int64         \n",
      "dtypes: datetime64[ns](2), float64(4), int64(3), object(2)\n",
      "memory usage: 124.6+ MB\n"
     ]
    }
   ],
   "source": [
    "df.info()"
   ]
  },
  {
   "cell_type": "code",
   "execution_count": 22,
   "metadata": {},
   "outputs": [
    {
     "name": "stdout",
     "output_type": "stream",
     "text": [
      "Creating features...\n"
     ]
    }
   ],
   "source": [
    "print('Creating features...')\n",
    "df = feature_eng_df(df)"
   ]
  },
  {
   "cell_type": "code",
   "execution_count": 23,
   "metadata": {},
   "outputs": [
    {
     "name": "stdout",
     "output_type": "stream",
     "text": [
      "<class 'pandas.core.frame.DataFrame'>\n",
      "Int64Index: 1361116 entries, 0 to 1458643\n",
      "Data columns (total 17 columns):\n",
      " #   Column                       Non-Null Count    Dtype         \n",
      "---  ------                       --------------    -----         \n",
      " 0   id                           1361116 non-null  object        \n",
      " 1   vendor_id                    1361116 non-null  int64         \n",
      " 2   pickup_datetime              1361116 non-null  datetime64[ns]\n",
      " 3   dropoff_datetime             1361116 non-null  datetime64[ns]\n",
      " 4   passenger_count              1361116 non-null  int64         \n",
      " 5   pickup_longitude             1361116 non-null  float64       \n",
      " 6   pickup_latitude              1361116 non-null  float64       \n",
      " 7   dropoff_longitude            1361116 non-null  float64       \n",
      " 8   dropoff_latitude             1361116 non-null  float64       \n",
      " 9   store_and_fwd_flag           1361116 non-null  object        \n",
      " 10  trip_duration                1361116 non-null  int64         \n",
      " 11  trip_distance                1361116 non-null  float64       \n",
      " 12  pickup_datetime_month        1361116 non-null  int64         \n",
      " 13  pickup_datetime_date         1361116 non-null  int64         \n",
      " 14  pickup_datetime_day_of_week  1361116 non-null  int64         \n",
      " 15  pickup_datetime_hour         1361116 non-null  int64         \n",
      " 16  log_trip_duration            1361116 non-null  float64       \n",
      "dtypes: datetime64[ns](2), float64(6), int64(7), object(2)\n",
      "memory usage: 186.9+ MB\n"
     ]
    }
   ],
   "source": [
    "df.info()"
   ]
  },
  {
   "cell_type": "code",
   "execution_count": 24,
   "metadata": {},
   "outputs": [
    {
     "data": {
      "text/plain": [
       "0     6.120297\n",
       "1     6.496775\n",
       "2     7.661056\n",
       "3     6.061457\n",
       "4     6.075346\n",
       "6     5.831882\n",
       "7     7.346655\n",
       "8     5.541264\n",
       "9     7.110696\n",
       "10    7.149917\n",
       "Name: log_trip_duration, dtype: float64"
      ]
     },
     "execution_count": 24,
     "metadata": {},
     "output_type": "execute_result"
    }
   ],
   "source": [
    "df.log_trip_duration.head(10)"
   ]
  },
  {
   "cell_type": "code",
   "execution_count": 25,
   "metadata": {},
   "outputs": [
    {
     "name": "stdout",
     "output_type": "stream",
     "text": [
      "Preprocessing data...\n"
     ]
    }
   ],
   "source": [
    "print('Preprocessing data...')"
   ]
  },
  {
   "cell_type": "code",
   "execution_count": 26,
   "metadata": {},
   "outputs": [],
   "source": [
    "# Select features for X\n",
    "X_cols_num = [\n",
    "    'trip_distance',\n",
    "    'pickup_datetime_month',\n",
    "    'pickup_datetime_date',\n",
    "    'pickup_datetime_day_of_week',\n",
    "    'pickup_datetime_hour',\n",
    "    'pickup_latitude',\n",
    "    'pickup_longitude',\n",
    "    'dropoff_latitude',\n",
    "    'dropoff_longitude',\n",
    "    ]\n",
    "X_cols_cat = []\n",
    "X_cols = X_cols_num + X_cols_cat\n",
    "\n",
    "num_pipeline = Pipeline(\n",
    "    steps=[\n",
    "        ('median_imputer', SimpleImputer(strategy='median')),\n",
    "        ('standard_scaler', StandardScaler()),\n",
    "    ])\n",
    "\n",
    "preprocessing_pl = Pipeline(\n",
    "    steps=[\n",
    "        ('selector', FunctionTransformer(lambda df: df[X_cols])),\n",
    "        ('column_transformer', ColumnTransformer([('num', num_pipeline, X_cols_num),])),\n",
    "    ])        \n",
    "\n",
    "X = preprocessing_pl.fit_transform(df)"
   ]
  },
  {
   "cell_type": "code",
   "execution_count": 27,
   "metadata": {},
   "outputs": [],
   "source": [
    "df_for_model = pd.DataFrame(X, columns=X_cols)"
   ]
  },
  {
   "cell_type": "code",
   "execution_count": 28,
   "metadata": {},
   "outputs": [
    {
     "name": "stdout",
     "output_type": "stream",
     "text": [
      "<class 'pandas.core.frame.DataFrame'>\n",
      "RangeIndex: 1361116 entries, 0 to 1361115\n",
      "Data columns (total 9 columns):\n",
      " #   Column                       Non-Null Count    Dtype  \n",
      "---  ------                       --------------    -----  \n",
      " 0   trip_distance                1361116 non-null  float64\n",
      " 1   pickup_datetime_month        1361116 non-null  float64\n",
      " 2   pickup_datetime_date         1361116 non-null  float64\n",
      " 3   pickup_datetime_day_of_week  1361116 non-null  float64\n",
      " 4   pickup_datetime_hour         1361116 non-null  float64\n",
      " 5   pickup_latitude              1361116 non-null  float64\n",
      " 6   pickup_longitude             1361116 non-null  float64\n",
      " 7   dropoff_latitude             1361116 non-null  float64\n",
      " 8   dropoff_longitude            1361116 non-null  float64\n",
      "dtypes: float64(9)\n",
      "memory usage: 93.5 MB\n"
     ]
    }
   ],
   "source": [
    "df_for_model.info()"
   ]
  },
  {
   "cell_type": "code",
   "execution_count": 35,
   "metadata": {},
   "outputs": [],
   "source": [
    "df_for_model['log_trip_duration'] = df['log_trip_duration'].values"
   ]
  },
  {
   "cell_type": "code",
   "execution_count": 37,
   "metadata": {},
   "outputs": [
    {
     "name": "stdout",
     "output_type": "stream",
     "text": [
      "<class 'pandas.core.frame.DataFrame'>\n",
      "RangeIndex: 1361116 entries, 0 to 1361115\n",
      "Data columns (total 10 columns):\n",
      " #   Column                       Non-Null Count    Dtype  \n",
      "---  ------                       --------------    -----  \n",
      " 0   trip_distance                1361116 non-null  float64\n",
      " 1   pickup_datetime_month        1361116 non-null  float64\n",
      " 2   pickup_datetime_date         1361116 non-null  float64\n",
      " 3   pickup_datetime_day_of_week  1361116 non-null  float64\n",
      " 4   pickup_datetime_hour         1361116 non-null  float64\n",
      " 5   pickup_latitude              1361116 non-null  float64\n",
      " 6   pickup_longitude             1361116 non-null  float64\n",
      " 7   dropoff_latitude             1361116 non-null  float64\n",
      " 8   dropoff_longitude            1361116 non-null  float64\n",
      " 9   log_trip_duration            1361116 non-null  float64\n",
      "dtypes: float64(10)\n",
      "memory usage: 103.8 MB\n"
     ]
    }
   ],
   "source": [
    "df_for_model.info()"
   ]
  },
  {
   "cell_type": "code",
   "execution_count": 4,
   "metadata": {},
   "outputs": [
    {
     "data": {
      "text/html": [
       "<div>\n",
       "<style scoped>\n",
       "    .dataframe tbody tr th:only-of-type {\n",
       "        vertical-align: middle;\n",
       "    }\n",
       "\n",
       "    .dataframe tbody tr th {\n",
       "        vertical-align: top;\n",
       "    }\n",
       "\n",
       "    .dataframe thead th {\n",
       "        text-align: right;\n",
       "    }\n",
       "</style>\n",
       "<table border=\"1\" class=\"dataframe\">\n",
       "  <thead>\n",
       "    <tr style=\"text-align: right;\">\n",
       "      <th></th>\n",
       "      <th>a</th>\n",
       "    </tr>\n",
       "  </thead>\n",
       "  <tbody>\n",
       "    <tr>\n",
       "      <th>0</th>\n",
       "      <td>1</td>\n",
       "    </tr>\n",
       "  </tbody>\n",
       "</table>\n",
       "</div>"
      ],
      "text/plain": [
       "   a\n",
       "0  1"
      ]
     },
     "execution_count": 4,
     "metadata": {},
     "output_type": "execute_result"
    }
   ],
   "source": [
    "input_df = pd.DataFrame()\n",
    "input_df['a'] = [1]\n",
    "\n",
    "input_df.head()"
   ]
  },
  {
   "cell_type": "code",
   "execution_count": 14,
   "metadata": {},
   "outputs": [
    {
     "data": {
      "text/plain": [
       "14"
      ]
     },
     "execution_count": 14,
     "metadata": {},
     "output_type": "execute_result"
    }
   ],
   "source": [
    "150//11 + 1 \n"
   ]
  }
 ],
 "metadata": {
  "interpreter": {
   "hash": "5e57bd0e9122681100ff0c01a77d03a96c53183a268dc781647c7935a0e65936"
  },
  "kernelspec": {
   "display_name": "Python 3.8.8 64-bit ('base': conda)",
   "name": "python3"
  },
  "language_info": {
   "codemirror_mode": {
    "name": "ipython",
    "version": 3
   },
   "file_extension": ".py",
   "mimetype": "text/x-python",
   "name": "python",
   "nbconvert_exporter": "python",
   "pygments_lexer": "ipython3",
   "version": "3.8.8"
  },
  "orig_nbformat": 4
 },
 "nbformat": 4,
 "nbformat_minor": 2
}
